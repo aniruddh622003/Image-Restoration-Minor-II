{
 "cells": [
  {
   "cell_type": "markdown",
   "id": "6dc98f2c",
   "metadata": {
    "papermill": {
     "duration": 0.007915,
     "end_time": "2023-03-26T06:07:03.882913",
     "exception": false,
     "start_time": "2023-03-26T06:07:03.874998",
     "status": "completed"
    },
    "tags": []
   },
   "source": [
    "Implementation of *eSRGAN* based on https://arxiv.org/pdf/1809.00219.pdf"
   ]
  },
  {
   "cell_type": "code",
   "execution_count": 1,
   "id": "b1155694",
   "metadata": {
    "_cell_guid": "b1076dfc-b9ad-4769-8c92-a6c4dae69d19",
    "_uuid": "8f2839f25d086af736a60e9eeb907d3b93b6e0e5",
    "execution": {
     "iopub.execute_input": "2023-03-26T06:07:03.898467Z",
     "iopub.status.busy": "2023-03-26T06:07:03.897338Z",
     "iopub.status.idle": "2023-03-26T06:07:06.649879Z",
     "shell.execute_reply": "2023-03-26T06:07:06.648846Z"
    },
    "papermill": {
     "duration": 2.763403,
     "end_time": "2023-03-26T06:07:06.652882",
     "exception": false,
     "start_time": "2023-03-26T06:07:03.889479",
     "status": "completed"
    },
    "tags": []
   },
   "outputs": [],
   "source": [
    "import torch.nn as nn\n",
    "import torch.nn.functional as F\n",
    "import torch\n",
    "from torchvision.models import vgg19\n",
    "import math\n",
    "import argparse\n",
    "import torchvision.transforms as transforms\n",
    "from torchvision.utils import save_image, make_grid\n",
    "from torch.utils.data import DataLoader, Dataset\n",
    "import os\n",
    "from PIL import Image\n",
    "from torch.autograd import Variable\n",
    "import numpy as np"
   ]
  },
  {
   "cell_type": "code",
   "execution_count": 2,
   "id": "2a2b5b9e",
   "metadata": {
    "execution": {
     "iopub.execute_input": "2023-03-26T06:07:06.667545Z",
     "iopub.status.busy": "2023-03-26T06:07:06.667091Z",
     "iopub.status.idle": "2023-03-26T06:07:06.683905Z",
     "shell.execute_reply": "2023-03-26T06:07:06.682813Z"
    },
    "papermill": {
     "duration": 0.027422,
     "end_time": "2023-03-26T06:07:06.686917",
     "exception": false,
     "start_time": "2023-03-26T06:07:06.659495",
     "status": "completed"
    },
    "tags": []
   },
   "outputs": [
    {
     "data": {
      "text/plain": [
       "Namespace(b1=0.9, b2=0.999, batch_size=3, channels=3, checkpoint_interval=5000, decay_epoch=100, epoch=0, hr_height=512, hr_width=512, lambda_adv=0.005, lambda_pixel=0.01, lr=0.0002, n_cpu=8, n_epoch=1, residual_blocks=15, sample_interval=1000, warmup_batches=500)"
      ]
     },
     "execution_count": 2,
     "metadata": {},
     "output_type": "execute_result"
    }
   ],
   "source": [
    "parser = argparse.ArgumentParser()\n",
    "parser.add_argument(\"--epoch\", type=int, default=0, help=\"Epoch to start training from\")\n",
    "parser.add_argument(\"--n_epoch\", type=int, default=1, help=\"total number of epochs for training\")\n",
    "parser.add_argument(\"--batch_size\", type=int, default=3, help=\"Size of batches\")\n",
    "parser.add_argument(\"--lr\", type=float, default=0.0002, help=\"Learning rate\")\n",
    "parser.add_argument(\"--b1\", type=float, default=0.9, help=\"Decay of first order momentum of gradient\")\n",
    "parser.add_argument(\"--b2\", type=float, default=0.999, help=\"Decay of second order momentum of gradient\")\n",
    "parser.add_argument(\"--decay_epoch\", type=int, default=100, help=\"Epoch from which to start lr decay\")\n",
    "parser.add_argument(\"--n_cpu\", type=int, default=8, help=\"Number of cpu threads to use during batch generation\")\n",
    "parser.add_argument(\"--hr_height\", type=int, default=512, help=\"High res. image height\")\n",
    "parser.add_argument(\"--hr_width\", type=int, default=512, help=\"High res. image width\")\n",
    "parser.add_argument(\"--channels\", type=int, default=3, help=\"Number of image channels\")\n",
    "parser.add_argument(\"--sample_interval\", type=int, default=1000, help=\"Interval between saving image samples\")\n",
    "parser.add_argument(\"--checkpoint_interval\", type=int, default=5000, help=\"Batch interval between model checkpoints\")\n",
    "parser.add_argument(\"--residual_blocks\", type=int, default=15, help=\"Number of residual blocks in the generator\")\n",
    "parser.add_argument(\"--warmup_batches\", type=int, default=500, help=\"Number of batches with pixel-wise loss only\")\n",
    "parser.add_argument(\"--lambda_adv\", type=float, default=5e-3, help=\"Adversarial loss weight\")\n",
    "parser.add_argument(\"--lambda_pixel\", type=float, default=1e-2, help=\"Pixel-wise loss weight\")\n",
    "opt = parser.parse_args(args=[])\n",
    "opt"
   ]
  },
  {
   "cell_type": "code",
   "execution_count": 3,
   "id": "7683f8bc",
   "metadata": {
    "execution": {
     "iopub.execute_input": "2023-03-26T06:07:06.701091Z",
     "iopub.status.busy": "2023-03-26T06:07:06.700792Z",
     "iopub.status.idle": "2023-03-26T06:07:06.766009Z",
     "shell.execute_reply": "2023-03-26T06:07:06.765068Z"
    },
    "papermill": {
     "duration": 0.074927,
     "end_time": "2023-03-26T06:07:06.768299",
     "exception": false,
     "start_time": "2023-03-26T06:07:06.693372",
     "status": "completed"
    },
    "tags": []
   },
   "outputs": [
    {
     "data": {
      "text/plain": [
       "device(type='cuda')"
      ]
     },
     "execution_count": 3,
     "metadata": {},
     "output_type": "execute_result"
    }
   ],
   "source": [
    "device = torch.device(\"cuda\" if torch.cuda.is_available() else \"cpu\")\n",
    "device"
   ]
  },
  {
   "cell_type": "code",
   "execution_count": 4,
   "id": "1e154ef1",
   "metadata": {
    "execution": {
     "iopub.execute_input": "2023-03-26T06:07:06.783001Z",
     "iopub.status.busy": "2023-03-26T06:07:06.782688Z",
     "iopub.status.idle": "2023-03-26T06:07:06.787218Z",
     "shell.execute_reply": "2023-03-26T06:07:06.786168Z"
    },
    "papermill": {
     "duration": 0.014333,
     "end_time": "2023-03-26T06:07:06.789292",
     "exception": false,
     "start_time": "2023-03-26T06:07:06.774959",
     "status": "completed"
    },
    "tags": []
   },
   "outputs": [],
   "source": [
    "hr_shape = (opt.hr_height, opt.hr_width)"
   ]
  },
  {
   "cell_type": "code",
   "execution_count": 5,
   "id": "7f9eb979",
   "metadata": {
    "execution": {
     "iopub.execute_input": "2023-03-26T06:07:06.804087Z",
     "iopub.status.busy": "2023-03-26T06:07:06.803529Z",
     "iopub.status.idle": "2023-03-26T06:07:06.809102Z",
     "shell.execute_reply": "2023-03-26T06:07:06.808094Z"
    },
    "papermill": {
     "duration": 0.015406,
     "end_time": "2023-03-26T06:07:06.811196",
     "exception": false,
     "start_time": "2023-03-26T06:07:06.795790",
     "status": "completed"
    },
    "tags": []
   },
   "outputs": [],
   "source": [
    "## VGG 19 feature extractor\n",
    "class FeatureExtractor(nn.Module):\n",
    "    def __init__(self):\n",
    "        super(FeatureExtractor, self).__init__()\n",
    "        vgg19_model = vgg19(pretrained=True)\n",
    "        self.vgg19_54 = nn.Sequential(*list(vgg19_model.features.children())[:35])\n",
    "\n",
    "    def forward(self, img):\n",
    "        return self.vgg19_54(img)"
   ]
  },
  {
   "attachments": {
    "5e136fba-9219-407a-81ea-863bd2f11ea6.png": {
     "image/png": "[encoded data removed]"
    }
   },
   "cell_type": "markdown",
   "id": "e2c10882",
   "metadata": {
    "papermill": {
     "duration": 0.006353,
     "end_time": "2023-03-26T06:07:06.824271",
     "exception": false,
     "start_time": "2023-03-26T06:07:06.817918",
     "status": "completed"
    },
    "tags": []
   },
   "source": [
    "![image.png](attachment:5e136fba-9219-407a-81ea-863bd2f11ea6.png)"
   ]
  },
  {
   "cell_type": "code",
   "execution_count": 6,
   "id": "6924e004",
   "metadata": {
    "execution": {
     "iopub.execute_input": "2023-03-26T06:07:06.840191Z",
     "iopub.status.busy": "2023-03-26T06:07:06.838712Z",
     "iopub.status.idle": "2023-03-26T06:07:06.848037Z",
     "shell.execute_reply": "2023-03-26T06:07:06.847145Z"
    },
    "papermill": {
     "duration": 0.01937,
     "end_time": "2023-03-26T06:07:06.850312",
     "exception": false,
     "start_time": "2023-03-26T06:07:06.830942",
     "status": "completed"
    },
    "tags": []
   },
   "outputs": [],
   "source": [
    "class DenseResidualBlock(nn.Module):\n",
    "    \"\"\"\n",
    "    The core module of paper: (Residual Dense Network for Image Super-Resolution, CVPR 18)\n",
    "    \"\"\"\n",
    "\n",
    "    def __init__(self, filters, res_scale=0.2):\n",
    "        super(DenseResidualBlock, self).__init__()\n",
    "        self.res_scale = res_scale\n",
    "\n",
    "        def block(in_features, non_linearity=True):\n",
    "            layers = [nn.Conv2d(in_features, filters, 3, 1, 1, bias=True)]\n",
    "            if non_linearity:\n",
    "                layers += [nn.LeakyReLU()]\n",
    "            return nn.Sequential(*layers)\n",
    "\n",
    "        self.b1 = block(in_features=1 * filters)\n",
    "        self.b2 = block(in_features=2 * filters)\n",
    "        self.b3 = block(in_features=3 * filters)\n",
    "        self.b4 = block(in_features=4 * filters)\n",
    "        self.b5 = block(in_features=5 * filters, non_linearity=False)\n",
    "        self.blocks = [self.b1, self.b2, self.b3, self.b4, self.b5]\n",
    "\n",
    "    def forward(self, x):\n",
    "        inputs = x\n",
    "        for block in self.blocks:\n",
    "            out = block(inputs)\n",
    "            inputs = torch.cat([inputs, out], 1)\n",
    "        return out.mul(self.res_scale) + x"
   ]
  },
  {
   "cell_type": "code",
   "execution_count": 7,
   "id": "10125bab",
   "metadata": {
    "execution": {
     "iopub.execute_input": "2023-03-26T06:07:06.864401Z",
     "iopub.status.busy": "2023-03-26T06:07:06.864133Z",
     "iopub.status.idle": "2023-03-26T06:07:06.869680Z",
     "shell.execute_reply": "2023-03-26T06:07:06.868677Z"
    },
    "papermill": {
     "duration": 0.014976,
     "end_time": "2023-03-26T06:07:06.871708",
     "exception": false,
     "start_time": "2023-03-26T06:07:06.856732",
     "status": "completed"
    },
    "tags": []
   },
   "outputs": [],
   "source": [
    "class ResInResDenseBlock(nn.Module):\n",
    "    def __init__(self, filters, res_scale=0.2):\n",
    "        super(ResInResDenseBlock, self).__init__()\n",
    "        self.res_scale = res_scale\n",
    "        self.dense_blocks = nn.Sequential(\n",
    "            DenseResidualBlock(filters), DenseResidualBlock(filters), DenseResidualBlock(filters)\n",
    "        )\n",
    "        \n",
    "    def forward(self, x):\n",
    "        return self.dense_blocks(x).mul(self.res_scale) + x\n"
   ]
  },
  {
   "cell_type": "code",
   "execution_count": 8,
   "id": "8b68df77",
   "metadata": {
    "execution": {
     "iopub.execute_input": "2023-03-26T06:07:06.886022Z",
     "iopub.status.busy": "2023-03-26T06:07:06.885754Z",
     "iopub.status.idle": "2023-03-26T06:07:06.895688Z",
     "shell.execute_reply": "2023-03-26T06:07:06.894803Z"
    },
    "papermill": {
     "duration": 0.019497,
     "end_time": "2023-03-26T06:07:06.897685",
     "exception": false,
     "start_time": "2023-03-26T06:07:06.878188",
     "status": "completed"
    },
    "tags": []
   },
   "outputs": [],
   "source": [
    "class GeneratorRRDB(nn.Module):\n",
    "    def __init__(self, channels, filters=64, num_res_blocks=16, num_upsample=2):\n",
    "        super(GeneratorRRDB, self).__init__()\n",
    "\n",
    "        # First layer\n",
    "        self.conv1 = nn.Conv2d(channels, filters, kernel_size=3, stride=1, padding=1)\n",
    "        # Residual blocks\n",
    "        self.res_blocks = nn.Sequential(*[ResInResDenseBlock(filters) for _ in range(num_res_blocks)])\n",
    "        # Second conv layer post residual blocks\n",
    "        self.conv2 = nn.Conv2d(filters, filters, kernel_size=3, stride=1, padding=1)\n",
    "        # Upsampling layers\n",
    "        upsample_layers = []\n",
    "        for _ in range(num_upsample):\n",
    "            upsample_layers += [\n",
    "                nn.Conv2d(filters, filters * 4, kernel_size=3, stride=1, padding=1),\n",
    "                nn.LeakyReLU(),\n",
    "                nn.PixelShuffle(upscale_factor=2),\n",
    "            ]\n",
    "        self.upsampling = nn.Sequential(*upsample_layers)\n",
    "        # Final output block\n",
    "        self.conv3 = nn.Sequential(\n",
    "            nn.Conv2d(filters, filters, kernel_size=3, stride=1, padding=1),\n",
    "            nn.LeakyReLU(),\n",
    "            nn.Conv2d(filters, channels, kernel_size=3, stride=1, padding=1),\n",
    "        )\n",
    "\n",
    "    def forward(self, x):\n",
    "        out1 = self.conv1(x)\n",
    "        out = self.res_blocks(out1)\n",
    "        out2 = self.conv2(out)\n",
    "        out = torch.add(out1, out2)\n",
    "        out = self.upsampling(out)\n",
    "        out = self.conv3(out)\n",
    "        return out"
   ]
  },
  {
   "cell_type": "code",
   "execution_count": 9,
   "id": "d65be42c",
   "metadata": {
    "execution": {
     "iopub.execute_input": "2023-03-26T06:07:06.912380Z",
     "iopub.status.busy": "2023-03-26T06:07:06.911737Z",
     "iopub.status.idle": "2023-03-26T06:07:06.922138Z",
     "shell.execute_reply": "2023-03-26T06:07:06.921091Z"
    },
    "papermill": {
     "duration": 0.019779,
     "end_time": "2023-03-26T06:07:06.924191",
     "exception": false,
     "start_time": "2023-03-26T06:07:06.904412",
     "status": "completed"
    },
    "tags": []
   },
   "outputs": [],
   "source": [
    "class Discriminator(nn.Module):\n",
    "    def __init__(self, input_shape):\n",
    "        super(Discriminator, self).__init__()\n",
    "\n",
    "        self.input_shape = input_shape\n",
    "        in_channels, in_height, in_width = self.input_shape\n",
    "        patch_h, patch_w = int(in_height / 2 ** 4), int(in_width / 2 ** 4)\n",
    "        self.output_shape = (1, patch_h, patch_w)\n",
    "\n",
    "        def discriminator_block(in_filters, out_filters, first_block=False):\n",
    "            layers = []\n",
    "            layers.append(nn.Conv2d(in_filters, out_filters, kernel_size=3, stride=1, padding=1))\n",
    "            if not first_block:\n",
    "                layers.append(nn.BatchNorm2d(out_filters))\n",
    "            layers.append(nn.LeakyReLU(0.2, inplace=True))\n",
    "            layers.append(nn.Conv2d(out_filters, out_filters, kernel_size=3, stride=2, padding=1))\n",
    "            layers.append(nn.BatchNorm2d(out_filters))\n",
    "            layers.append(nn.LeakyReLU(0.2, inplace=True))\n",
    "            return layers\n",
    "\n",
    "        layers = []\n",
    "        in_filters = in_channels\n",
    "        for i, out_filters in enumerate([64, 128, 256, 512]):\n",
    "            layers.extend(discriminator_block(in_filters, out_filters, first_block=(i == 0)))\n",
    "            in_filters = out_filters\n",
    "\n",
    "        layers.append(nn.Conv2d(out_filters, 1, kernel_size=3, stride=1, padding=1))\n",
    "\n",
    "        self.model = nn.Sequential(*layers)\n",
    "\n",
    "    def forward(self, img):\n",
    "        return self.model(img)"
   ]
  },
  {
   "cell_type": "code",
   "execution_count": 10,
   "id": "8fffdee2",
   "metadata": {
    "execution": {
     "iopub.execute_input": "2023-03-26T06:07:06.938974Z",
     "iopub.status.busy": "2023-03-26T06:07:06.938067Z",
     "iopub.status.idle": "2023-03-26T06:07:27.249401Z",
     "shell.execute_reply": "2023-03-26T06:07:27.247997Z"
    },
    "papermill": {
     "duration": 20.321438,
     "end_time": "2023-03-26T06:07:27.252124",
     "exception": false,
     "start_time": "2023-03-26T06:07:06.930686",
     "status": "completed"
    },
    "tags": []
   },
   "outputs": [
    {
     "name": "stderr",
     "output_type": "stream",
     "text": [
      "/opt/conda/lib/python3.7/site-packages/torchvision/models/_utils.py:209: UserWarning: The parameter 'pretrained' is deprecated since 0.13 and may be removed in the future, please use 'weights' instead.\n",
      "  f\"The parameter '{pretrained_param}' is deprecated since 0.13 and may be removed in the future, \"\n",
      "/opt/conda/lib/python3.7/site-packages/torchvision/models/_utils.py:223: UserWarning: Arguments other than a weight enum or `None` for 'weights' are deprecated since 0.13 and may be removed in the future. The current behavior is equivalent to passing `weights=VGG19_Weights.IMAGENET1K_V1`. You can also use `weights=VGG19_Weights.DEFAULT` to get the most up-to-date weights.\n",
      "  warnings.warn(msg)\n",
      "Downloading: \"https://download.pytorch.org/models/vgg19-dcbb9e9d.pth\" to /root/.cache/torch/hub/checkpoints/vgg19-dcbb9e9d.pth\n"
     ]
    },
    {
     "data": {
      "application/vnd.jupyter.widget-view+json": {
       "model_id": "870e112d996d4800ba04e653d2e34bdb",
       "version_major": 2,
       "version_minor": 0
      },
      "text/plain": [
       "  0%|          | 0.00/548M [00:00<?, ?B/s]"
      ]
     },
     "metadata": {},
     "output_type": "display_data"
    },
    {
     "data": {
      "text/plain": [
       "FeatureExtractor(\n",
       "  (vgg19_54): Sequential(\n",
       "    (0): Conv2d(3, 64, kernel_size=(3, 3), stride=(1, 1), padding=(1, 1))\n",
       "    (1): ReLU(inplace=True)\n",
       "    (2): Conv2d(64, 64, kernel_size=(3, 3), stride=(1, 1), padding=(1, 1))\n",
       "    (3): ReLU(inplace=True)\n",
       "    (4): MaxPool2d(kernel_size=2, stride=2, padding=0, dilation=1, ceil_mode=False)\n",
       "    (5): Conv2d(64, 128, kernel_size=(3, 3), stride=(1, 1), padding=(1, 1))\n",
       "    (6): ReLU(inplace=True)\n",
       "    (7): Conv2d(128, 128, kernel_size=(3, 3), stride=(1, 1), padding=(1, 1))\n",
       "    (8): ReLU(inplace=True)\n",
       "    (9): MaxPool2d(kernel_size=2, stride=2, padding=0, dilation=1, ceil_mode=False)\n",
       "    (10): Conv2d(128, 256, kernel_size=(3, 3), stride=(1, 1), padding=(1, 1))\n",
       "    (11): ReLU(inplace=True)\n",
       "    (12): Conv2d(256, 256, kernel_size=(3, 3), stride=(1, 1), padding=(1, 1))\n",
       "    (13): ReLU(inplace=True)\n",
       "    (14): Conv2d(256, 256, kernel_size=(3, 3), stride=(1, 1), padding=(1, 1))\n",
       "    (15): ReLU(inplace=True)\n",
       "    (16): Conv2d(256, 256, kernel_size=(3, 3), stride=(1, 1), padding=(1, 1))\n",
       "    (17): ReLU(inplace=True)\n",
       "    (18): MaxPool2d(kernel_size=2, stride=2, padding=0, dilation=1, ceil_mode=False)\n",
       "    (19): Conv2d(256, 512, kernel_size=(3, 3), stride=(1, 1), padding=(1, 1))\n",
       "    (20): ReLU(inplace=True)\n",
       "    (21): Conv2d(512, 512, kernel_size=(3, 3), stride=(1, 1), padding=(1, 1))\n",
       "    (22): ReLU(inplace=True)\n",
       "    (23): Conv2d(512, 512, kernel_size=(3, 3), stride=(1, 1), padding=(1, 1))\n",
       "    (24): ReLU(inplace=True)\n",
       "    (25): Conv2d(512, 512, kernel_size=(3, 3), stride=(1, 1), padding=(1, 1))\n",
       "    (26): ReLU(inplace=True)\n",
       "    (27): MaxPool2d(kernel_size=2, stride=2, padding=0, dilation=1, ceil_mode=False)\n",
       "    (28): Conv2d(512, 512, kernel_size=(3, 3), stride=(1, 1), padding=(1, 1))\n",
       "    (29): ReLU(inplace=True)\n",
       "    (30): Conv2d(512, 512, kernel_size=(3, 3), stride=(1, 1), padding=(1, 1))\n",
       "    (31): ReLU(inplace=True)\n",
       "    (32): Conv2d(512, 512, kernel_size=(3, 3), stride=(1, 1), padding=(1, 1))\n",
       "    (33): ReLU(inplace=True)\n",
       "    (34): Conv2d(512, 512, kernel_size=(3, 3), stride=(1, 1), padding=(1, 1))\n",
       "  )\n",
       ")"
      ]
     },
     "execution_count": 10,
     "metadata": {},
     "output_type": "execute_result"
    }
   ],
   "source": [
    "# Initialize generator and discriminator\n",
    "generator = GeneratorRRDB(opt.channels, filters=64, num_res_blocks=opt.residual_blocks).to(device)\n",
    "discriminator = Discriminator(input_shape=(opt.channels, *hr_shape)).to(device)\n",
    "feature_extractor = FeatureExtractor().to(device)\n",
    "feature_extractor.eval()"
   ]
  },
  {
   "cell_type": "code",
   "execution_count": 11,
   "id": "efcfa422",
   "metadata": {
    "execution": {
     "iopub.execute_input": "2023-03-26T06:07:27.268635Z",
     "iopub.status.busy": "2023-03-26T06:07:27.268332Z",
     "iopub.status.idle": "2023-03-26T06:07:27.274424Z",
     "shell.execute_reply": "2023-03-26T06:07:27.273538Z"
    },
    "papermill": {
     "duration": 0.016143,
     "end_time": "2023-03-26T06:07:27.276284",
     "exception": false,
     "start_time": "2023-03-26T06:07:27.260141",
     "status": "completed"
    },
    "tags": []
   },
   "outputs": [],
   "source": [
    "# Losses\n",
    "criterion_GAN = torch.nn.BCEWithLogitsLoss().to(device)\n",
    "criterion_content = torch.nn.L1Loss().to(device)\n",
    "criterion_pixel = torch.nn.L1Loss().to(device)"
   ]
  },
  {
   "cell_type": "code",
   "execution_count": 12,
   "id": "a3725c91",
   "metadata": {
    "execution": {
     "iopub.execute_input": "2023-03-26T06:07:27.292648Z",
     "iopub.status.busy": "2023-03-26T06:07:27.290999Z",
     "iopub.status.idle": "2023-03-26T06:07:27.297296Z",
     "shell.execute_reply": "2023-03-26T06:07:27.296412Z"
    },
    "papermill": {
     "duration": 0.016109,
     "end_time": "2023-03-26T06:07:27.299428",
     "exception": false,
     "start_time": "2023-03-26T06:07:27.283319",
     "status": "completed"
    },
    "tags": []
   },
   "outputs": [],
   "source": [
    "if opt.epoch != 0:\n",
    "    # Load pretrained models\n",
    "    generator.load_state_dict(torch.load(\"saved_models/generator_%d.pth\" % opt.epoch))\n",
    "    discriminator.load_state_dict(torch.load(\"saved_models/discriminator_%d.pth\" % opt.epoch))"
   ]
  },
  {
   "cell_type": "code",
   "execution_count": 13,
   "id": "02079c08",
   "metadata": {
    "execution": {
     "iopub.execute_input": "2023-03-26T06:07:27.314836Z",
     "iopub.status.busy": "2023-03-26T06:07:27.314181Z",
     "iopub.status.idle": "2023-03-26T06:07:27.322276Z",
     "shell.execute_reply": "2023-03-26T06:07:27.321258Z"
    },
    "papermill": {
     "duration": 0.018161,
     "end_time": "2023-03-26T06:07:27.324389",
     "exception": false,
     "start_time": "2023-03-26T06:07:27.306228",
     "status": "completed"
    },
    "tags": []
   },
   "outputs": [],
   "source": [
    "# Optimizers\n",
    "optimizer_G = torch.optim.Adam(generator.parameters(), lr=opt.lr, betas=(opt.b1, opt.b2))\n",
    "optimizer_D = torch.optim.Adam(discriminator.parameters(), lr=opt.lr, betas=(opt.b1, opt.b2))"
   ]
  },
  {
   "cell_type": "code",
   "execution_count": 14,
   "id": "54a25415",
   "metadata": {
    "execution": {
     "iopub.execute_input": "2023-03-26T06:07:27.339609Z",
     "iopub.status.busy": "2023-03-26T06:07:27.338763Z",
     "iopub.status.idle": "2023-03-26T06:07:27.343702Z",
     "shell.execute_reply": "2023-03-26T06:07:27.342791Z"
    },
    "papermill": {
     "duration": 0.014702,
     "end_time": "2023-03-26T06:07:27.345831",
     "exception": false,
     "start_time": "2023-03-26T06:07:27.331129",
     "status": "completed"
    },
    "tags": []
   },
   "outputs": [],
   "source": [
    "Tensor = torch.cuda.FloatTensor if torch.cuda.is_available() else torch.Tensor"
   ]
  },
  {
   "cell_type": "code",
   "execution_count": 15,
   "id": "f783d4b4",
   "metadata": {
    "execution": {
     "iopub.execute_input": "2023-03-26T06:07:27.361407Z",
     "iopub.status.busy": "2023-03-26T06:07:27.360545Z",
     "iopub.status.idle": "2023-03-26T06:07:27.365731Z",
     "shell.execute_reply": "2023-03-26T06:07:27.364806Z"
    },
    "papermill": {
     "duration": 0.015025,
     "end_time": "2023-03-26T06:07:27.367909",
     "exception": false,
     "start_time": "2023-03-26T06:07:27.352884",
     "status": "completed"
    },
    "tags": []
   },
   "outputs": [],
   "source": [
    "# Normalization parameters for pre-trained PyTorch models\n",
    "mean = np.array([0.485, 0.456, 0.406])\n",
    "std = np.array([0.229, 0.224, 0.225])"
   ]
  },
  {
   "cell_type": "code",
   "execution_count": 16,
   "id": "58a3fc96",
   "metadata": {
    "execution": {
     "iopub.execute_input": "2023-03-26T06:07:27.383244Z",
     "iopub.status.busy": "2023-03-26T06:07:27.382647Z",
     "iopub.status.idle": "2023-03-26T06:07:27.387527Z",
     "shell.execute_reply": "2023-03-26T06:07:27.386440Z"
    },
    "papermill": {
     "duration": 0.014986,
     "end_time": "2023-03-26T06:07:27.389670",
     "exception": false,
     "start_time": "2023-03-26T06:07:27.374684",
     "status": "completed"
    },
    "tags": []
   },
   "outputs": [],
   "source": [
    "transform = transforms.Compose([\n",
    "    transforms.ToTensor(),\n",
    "    transforms.Normalize(mean, std),\n",
    "])"
   ]
  },
  {
   "cell_type": "code",
   "execution_count": 17,
   "id": "bd463582",
   "metadata": {
    "execution": {
     "iopub.execute_input": "2023-03-26T06:07:27.405431Z",
     "iopub.status.busy": "2023-03-26T06:07:27.405150Z",
     "iopub.status.idle": "2023-03-26T06:07:27.410446Z",
     "shell.execute_reply": "2023-03-26T06:07:27.409311Z"
    },
    "papermill": {
     "duration": 0.015586,
     "end_time": "2023-03-26T06:07:27.412589",
     "exception": false,
     "start_time": "2023-03-26T06:07:27.397003",
     "status": "completed"
    },
    "tags": []
   },
   "outputs": [],
   "source": [
    "def denormalize(tensors):\n",
    "    \"\"\" Denormalizes image tensors using mean and std \"\"\"\n",
    "    for c in range(3):\n",
    "        tensors[:, c].mul_(std[c]).add_(mean[c])\n",
    "    return torch.clamp(tensors, 0, 255)"
   ]
  },
  {
   "cell_type": "code",
   "execution_count": 18,
   "id": "76536bb5",
   "metadata": {
    "execution": {
     "iopub.execute_input": "2023-03-26T06:07:27.428475Z",
     "iopub.status.busy": "2023-03-26T06:07:27.427877Z",
     "iopub.status.idle": "2023-03-26T06:07:27.436804Z",
     "shell.execute_reply": "2023-03-26T06:07:27.435876Z"
    },
    "papermill": {
     "duration": 0.019232,
     "end_time": "2023-03-26T06:07:27.439011",
     "exception": false,
     "start_time": "2023-03-26T06:07:27.419779",
     "status": "completed"
    },
    "tags": []
   },
   "outputs": [],
   "source": [
    "class MyDataset(Dataset):\n",
    "    def __init__(self, lr_dir, hr_dir, transform=None):\n",
    "        super(MyDataset, self).__init__()\n",
    "        self.lr_filenames = os.listdir(lr_dir)\n",
    "        self.hr_filenames = os.listdir(hr_dir)\n",
    "        self.lr_dir = lr_dir\n",
    "        self.hr_dir = hr_dir\n",
    "        self.transform = transform\n",
    "        \n",
    "    def __getitem__(self, index):\n",
    "        lr_filename = self.lr_filenames[index]\n",
    "        hr_filename = self.hr_filenames[index]\n",
    "        lr_img = Image.open(os.path.join(self.lr_dir, lr_filename)).convert('RGB')\n",
    "        hr_img = Image.open(os.path.join(self.hr_dir, hr_filename)).convert('RGB')\n",
    "        \n",
    "        if self.transform is not None:\n",
    "            lr_img = self.transform(lr_img)\n",
    "            hr_img = self.transform(hr_img)\n",
    "        \n",
    "        return lr_img.to(device), hr_img.to(device)\n",
    "    \n",
    "    def __len__(self):\n",
    "        return len(self.lr_filenames)"
   ]
  },
  {
   "cell_type": "code",
   "execution_count": 19,
   "id": "818268ff",
   "metadata": {
    "execution": {
     "iopub.execute_input": "2023-03-26T06:07:27.455533Z",
     "iopub.status.busy": "2023-03-26T06:07:27.454667Z",
     "iopub.status.idle": "2023-03-26T06:07:28.707967Z",
     "shell.execute_reply": "2023-03-26T06:07:28.706919Z"
    },
    "papermill": {
     "duration": 1.26415,
     "end_time": "2023-03-26T06:07:28.710554",
     "exception": false,
     "start_time": "2023-03-26T06:07:27.446404",
     "status": "completed"
    },
    "tags": []
   },
   "outputs": [],
   "source": [
    "dataset = MyDataset(lr_dir='/kaggle/input/image-restoration-minor-128x128',\n",
    "                        hr_dir='/kaggle/input/image-restoration-minor-512x512',\n",
    "                        transform=transform)"
   ]
  },
  {
   "cell_type": "code",
   "execution_count": 20,
   "id": "2ed23635",
   "metadata": {
    "execution": {
     "iopub.execute_input": "2023-03-26T06:07:28.726504Z",
     "iopub.status.busy": "2023-03-26T06:07:28.726192Z",
     "iopub.status.idle": "2023-03-26T06:07:28.731982Z",
     "shell.execute_reply": "2023-03-26T06:07:28.731085Z"
    },
    "papermill": {
     "duration": 0.01611,
     "end_time": "2023-03-26T06:07:28.734020",
     "exception": false,
     "start_time": "2023-03-26T06:07:28.717910",
     "status": "completed"
    },
    "tags": []
   },
   "outputs": [],
   "source": [
    "dataloader = DataLoader(dataset, batch_size=opt.batch_size, shuffle=True, pin_memory=False)"
   ]
  },
  {
   "cell_type": "code",
   "execution_count": 21,
   "id": "14cd8448",
   "metadata": {
    "execution": {
     "iopub.execute_input": "2023-03-26T06:07:28.749069Z",
     "iopub.status.busy": "2023-03-26T06:07:28.748769Z",
     "iopub.status.idle": "2023-03-26T06:07:28.755148Z",
     "shell.execute_reply": "2023-03-26T06:07:28.754089Z"
    },
    "papermill": {
     "duration": 0.017327,
     "end_time": "2023-03-26T06:07:28.758423",
     "exception": false,
     "start_time": "2023-03-26T06:07:28.741096",
     "status": "completed"
    },
    "tags": []
   },
   "outputs": [
    {
     "name": "stdout",
     "output_type": "stream",
     "text": [
      "Created Image logs folder\n",
      "Created Saved models folder\n"
     ]
    }
   ],
   "source": [
    "if not os.path.exists('images/training/'):\n",
    "    print(\"Created Image logs folder\")\n",
    "    os.makedirs('images/training/')\n",
    "    \n",
    "if not os.path.exists('saved_models/'):\n",
    "    print(\"Created Saved models folder\")\n",
    "    os.makedirs('saved_models/')"
   ]
  },
  {
   "cell_type": "code",
   "execution_count": 22,
   "id": "b68335f0",
   "metadata": {
    "execution": {
     "iopub.execute_input": "2023-03-26T06:07:28.774509Z",
     "iopub.status.busy": "2023-03-26T06:07:28.773242Z",
     "iopub.status.idle": "2023-03-26T06:07:28.929077Z",
     "shell.execute_reply": "2023-03-26T06:07:28.928063Z"
    },
    "papermill": {
     "duration": 0.166309,
     "end_time": "2023-03-26T06:07:28.931613",
     "exception": false,
     "start_time": "2023-03-26T06:07:28.765304",
     "status": "completed"
    },
    "tags": []
   },
   "outputs": [],
   "source": [
    "img_lr_test = transform(Image.open(os.path.join('/kaggle/input/image-restoration-minor-128x128', 'patch_000000878.jpg'))\n",
    "                        .convert('RGB')).to(device)\n",
    "img_hr_test = transform(Image.open(os.path.join('/kaggle/input/image-restoration-minor-512x512', 'patch_000000878.jpg'))\n",
    "                        .convert('RGB'))\n",
    "img_grid = denormalize(img_lr_test)\n",
    "save_image(img_grid, \"images/training/og_lr.png\", nrow=1, normalize=False)\n",
    "img_grid = denormalize(img_hr_test)\n",
    "save_image(img_grid, \"images/training/og_hr.png\", nrow=1, normalize=False)"
   ]
  },
  {
   "cell_type": "code",
   "execution_count": 23,
   "id": "e4ec4296",
   "metadata": {
    "execution": {
     "iopub.execute_input": "2023-03-26T06:07:28.947486Z",
     "iopub.status.busy": "2023-03-26T06:07:28.946933Z",
     "iopub.status.idle": "2023-03-26T06:07:32.006927Z",
     "shell.execute_reply": "2023-03-26T06:07:32.005785Z"
    },
    "papermill": {
     "duration": 3.070976,
     "end_time": "2023-03-26T06:07:32.009910",
     "exception": false,
     "start_time": "2023-03-26T06:07:28.938934",
     "status": "completed"
    },
    "tags": []
   },
   "outputs": [],
   "source": [
    "with torch.no_grad():\n",
    "    generator.eval()\n",
    "    gen_hr = generator(img_lr_test.unsqueeze(0))\n",
    "    img_grid = denormalize(gen_hr)\n",
    "    save_image(img_grid, \"images/training/test.png\", nrow=1, normalize=False)\n",
    "    generator.train()"
   ]
  },
  {
   "cell_type": "code",
   "execution_count": 24,
   "id": "e5183ee6",
   "metadata": {
    "execution": {
     "iopub.execute_input": "2023-03-26T06:07:32.036047Z",
     "iopub.status.busy": "2023-03-26T06:07:32.035649Z",
     "iopub.status.idle": "2023-03-26T11:30:51.465354Z",
     "shell.execute_reply": "2023-03-26T11:30:51.464302Z"
    },
    "papermill": {
     "duration": 19399.447049,
     "end_time": "2023-03-26T11:30:51.468164",
     "exception": false,
     "start_time": "2023-03-26T06:07:32.021115",
     "status": "completed"
    },
    "tags": []
   },
   "outputs": [
    {
     "name": "stdout",
     "output_type": "stream",
     "text": [
      "[Epoch 0/1] [Batch 0/14354] [G pixel: 0.836861]\n",
      "[Epoch 0/1] [Batch 50/14354] [G pixel: 0.218454]\n",
      "[Epoch 0/1] [Batch 100/14354] [G pixel: 0.130648]\n",
      "[Epoch 0/1] [Batch 150/14354] [G pixel: 0.191081]\n",
      "[Epoch 0/1] [Batch 200/14354] [G pixel: 0.266332]\n",
      "[Epoch 0/1] [Batch 250/14354] [G pixel: 0.200854]\n",
      "[Epoch 0/1] [Batch 300/14354] [G pixel: 0.163897]\n",
      "[Epoch 0/1] [Batch 350/14354] [G pixel: 0.066885]\n",
      "[Epoch 0/1] [Batch 400/14354] [G pixel: 0.162459]\n",
      "[Epoch 0/1] [Batch 450/14354] [G pixel: 0.095416]\n",
      "[Epoch 0/1] [Batch 500/14354] [D loss: 0.738132] [G loss: 0.625109, content: 0.621074, adv: 0.685559, pixel: 0.060696]\n",
      "[Epoch 0/1] [Batch 550/14354] [D loss: 0.092785] [G loss: 1.142344, content: 1.120930, adv: 2.726896, pixel: 0.778019]\n",
      "[Epoch 0/1] [Batch 600/14354] [D loss: 0.009684] [G loss: 1.634915, content: 1.601000, adv: 5.227770, pixel: 0.777650]\n",
      "[Epoch 0/1] [Batch 650/14354] [D loss: 0.002374] [G loss: 1.196217, content: 1.150489, adv: 6.839204, pixel: 1.153168]\n",
      "[Epoch 0/1] [Batch 700/14354] [D loss: 0.000771] [G loss: 1.045251, content: 0.995493, adv: 7.799383, pixel: 1.076125]\n",
      "[Epoch 0/1] [Batch 750/14354] [D loss: 0.000444] [G loss: 0.883258, content: 0.834165, adv: 8.099365, pixel: 0.859543]\n",
      "[Epoch 0/1] [Batch 800/14354] [D loss: 0.000570] [G loss: 0.861759, content: 0.814572, adv: 8.003829, pixel: 0.716877]\n",
      "[Epoch 0/1] [Batch 850/14354] [D loss: 0.001315] [G loss: 1.273567, content: 1.232901, adv: 7.162735, pixel: 0.485195]\n",
      "[Epoch 0/1] [Batch 900/14354] [D loss: 0.000339] [G loss: 0.847654, content: 0.797050, adv: 8.525921, pixel: 0.797437]\n",
      "[Epoch 0/1] [Batch 950/14354] [D loss: 0.000457] [G loss: 1.282474, content: 1.235609, adv: 8.183878, pixel: 0.594557]\n",
      "[Epoch 0/1] [Batch 1000/14354] [D loss: 0.001367] [G loss: 0.881711, content: 0.836424, adv: 7.256290, pixel: 0.900521]\n",
      "[Epoch 0/1] [Batch 1050/14354] [D loss: 0.001146] [G loss: 0.871949, content: 0.824815, adv: 7.788450, pixel: 0.819175]\n",
      "[Epoch 0/1] [Batch 1100/14354] [D loss: 0.000686] [G loss: 1.217838, content: 1.166023, adv: 8.597453, pixel: 0.882792]\n",
      "[Epoch 0/1] [Batch 1150/14354] [D loss: 0.000170] [G loss: 0.561134, content: 0.505157, adv: 9.547308, pixel: 0.824028]\n",
      "[Epoch 0/1] [Batch 1200/14354] [D loss: 0.000240] [G loss: 1.112454, content: 1.057673, adv: 9.141169, pixel: 0.907502]\n",
      "[Epoch 0/1] [Batch 1250/14354] [D loss: 0.002228] [G loss: 1.532106, content: 1.487095, adv: 7.840302, pixel: 0.581010]\n",
      "[Epoch 0/1] [Batch 1300/14354] [D loss: 0.000710] [G loss: 0.584850, content: 0.531906, adv: 8.572156, pixel: 1.008336]\n",
      "[Epoch 0/1] [Batch 1350/14354] [D loss: 0.000767] [G loss: 1.426441, content: 1.377276, adv: 8.861894, pixel: 0.485568]\n",
      "[Epoch 0/1] [Batch 1400/14354] [D loss: 0.006801] [G loss: 1.399011, content: 1.357873, adv: 6.699622, pixel: 0.763977]\n",
      "[Epoch 0/1] [Batch 1450/14354] [D loss: 0.000978] [G loss: 1.123320, content: 1.074842, adv: 8.790447, pixel: 0.452579]\n",
      "[Epoch 0/1] [Batch 1500/14354] [D loss: 0.004386] [G loss: 0.678765, content: 0.641651, adv: 6.497325, pixel: 0.462744]\n",
      "[Epoch 0/1] [Batch 1550/14354] [D loss: 0.000644] [G loss: 1.214764, content: 1.164356, adv: 8.967042, pixel: 0.557275]\n",
      "[Epoch 0/1] [Batch 1600/14354] [D loss: 0.000097] [G loss: 0.791939, content: 0.730791, adv: 10.880389, pixel: 0.674614]\n",
      "[Epoch 0/1] [Batch 1650/14354] [D loss: 0.000830] [G loss: 0.785129, content: 0.739006, adv: 7.852684, pixel: 0.685980]\n",
      "[Epoch 0/1] [Batch 1700/14354] [D loss: 0.079257] [G loss: 1.061613, content: 1.040208, adv: 3.250370, pixel: 0.515252]\n",
      "[Epoch 0/1] [Batch 1750/14354] [D loss: 0.001440] [G loss: 0.755158, content: 0.709623, adv: 8.068963, pixel: 0.518987]\n",
      "[Epoch 0/1] [Batch 1800/14354] [D loss: 0.008790] [G loss: 0.946761, content: 0.902818, adv: 7.738739, pixel: 0.524893]\n",
      "[Epoch 0/1] [Batch 1850/14354] [D loss: 0.002242] [G loss: 0.574502, content: 0.532581, adv: 7.188678, pixel: 0.597764]\n",
      "[Epoch 0/1] [Batch 1900/14354] [D loss: 0.002041] [G loss: 0.892653, content: 0.851130, adv: 7.631067, pixel: 0.336732]\n",
      "[Epoch 0/1] [Batch 1950/14354] [D loss: 0.134039] [G loss: 0.626747, content: 0.608838, adv: 2.790182, pixel: 0.395733]\n",
      "[Epoch 0/1] [Batch 2000/14354] [D loss: 0.008486] [G loss: 0.682238, content: 0.642589, adv: 6.956365, pixel: 0.486707]\n",
      "[Epoch 0/1] [Batch 2050/14354] [D loss: 0.003521] [G loss: 0.739400, content: 0.697605, adv: 7.980904, pixel: 0.189062]\n",
      "[Epoch 0/1] [Batch 2100/14354] [D loss: 0.000926] [G loss: 0.898693, content: 0.855025, adv: 8.218884, pixel: 0.257344]\n",
      "[Epoch 0/1] [Batch 2150/14354] [D loss: 0.005808] [G loss: 0.853671, content: 0.819469, adv: 6.277798, pixel: 0.281315]\n",
      "[Epoch 0/1] [Batch 2200/14354] [D loss: 0.001233] [G loss: 0.545743, content: 0.503716, adv: 8.071079, pixel: 0.167164]\n",
      "[Epoch 0/1] [Batch 2250/14354] [D loss: 0.006706] [G loss: 0.947027, content: 0.913574, adv: 6.194065, pixel: 0.248276]\n",
      "[Epoch 0/1] [Batch 2300/14354] [D loss: 0.005037] [G loss: 1.029117, content: 0.991364, adv: 6.873548, pixel: 0.338461]\n",
      "[Epoch 0/1] [Batch 2350/14354] [D loss: 0.001496] [G loss: 0.550461, content: 0.510177, adv: 7.518028, pixel: 0.269399]\n",
      "[Epoch 0/1] [Batch 2400/14354] [D loss: 0.001805] [G loss: 0.876957, content: 0.836479, adv: 7.755611, pixel: 0.170034]\n",
      "[Epoch 0/1] [Batch 2450/14354] [D loss: 0.003416] [G loss: 0.711095, content: 0.674212, adv: 6.613121, pixel: 0.381710]\n",
      "[Epoch 0/1] [Batch 2500/14354] [D loss: 0.084408] [G loss: 0.980515, content: 0.949356, adv: 5.712235, pixel: 0.259771]\n",
      "[Epoch 0/1] [Batch 2550/14354] [D loss: 0.035610] [G loss: 0.672034, content: 0.644516, adv: 5.046672, pixel: 0.228445]\n",
      "[Epoch 0/1] [Batch 2600/14354] [D loss: 0.024611] [G loss: 0.475384, content: 0.449098, adv: 4.970710, pixel: 0.143188]\n",
      "[Epoch 0/1] [Batch 2650/14354] [D loss: 0.116508] [G loss: 0.757527, content: 0.731691, adv: 4.682930, pixel: 0.242167]\n",
      "[Epoch 0/1] [Batch 2700/14354] [D loss: 1.291446] [G loss: 0.897361, content: 0.883689, adv: 2.160501, pixel: 0.287026]\n",
      "[Epoch 0/1] [Batch 2750/14354] [D loss: 0.013883] [G loss: 0.675513, content: 0.646497, adv: 5.464230, pixel: 0.169498]\n",
      "[Epoch 0/1] [Batch 2800/14354] [D loss: 0.142171] [G loss: 0.853925, content: 0.832155, adv: 3.784650, pixel: 0.284657]\n",
      "[Epoch 0/1] [Batch 2850/14354] [D loss: 0.000164] [G loss: 0.643696, content: 0.578237, adv: 12.739925, pixel: 0.175942]\n",
      "[Epoch 0/1] [Batch 2900/14354] [D loss: 0.046163] [G loss: 0.744809, content: 0.722416, adv: 4.059625, pixel: 0.209461]\n",
      "[Epoch 0/1] [Batch 2950/14354] [D loss: 0.002667] [G loss: 0.500924, content: 0.461047, adv: 7.664353, pixel: 0.155511]\n",
      "[Epoch 0/1] [Batch 3000/14354] [D loss: 0.020661] [G loss: 0.560950, content: 0.526713, adv: 6.646354, pixel: 0.100526]\n",
      "[Epoch 0/1] [Batch 3050/14354] [D loss: 0.055319] [G loss: 0.872286, content: 0.847961, adv: 4.452999, pixel: 0.205968]\n",
      "[Epoch 0/1] [Batch 3100/14354] [D loss: 0.248436] [G loss: 0.689112, content: 0.670883, adv: 3.411588, pixel: 0.117044]\n",
      "[Epoch 0/1] [Batch 3150/14354] [D loss: 0.960975] [G loss: 0.688243, content: 0.681874, adv: 1.030116, pixel: 0.121911]\n",
      "[Epoch 0/1] [Batch 3200/14354] [D loss: 0.107968] [G loss: 1.348857, content: 1.326081, adv: 4.100615, pixel: 0.227283]\n",
      "[Epoch 0/1] [Batch 3250/14354] [D loss: 0.003957] [G loss: 0.831834, content: 0.792297, adv: 7.478753, pixel: 0.214251]\n",
      "[Epoch 0/1] [Batch 3300/14354] [D loss: 0.004761] [G loss: 0.436280, content: 0.399878, adv: 7.026240, pixel: 0.127048]\n",
      "[Epoch 0/1] [Batch 3350/14354] [D loss: 0.079880] [G loss: 0.773705, content: 0.757595, adv: 2.986254, pixel: 0.117892]\n",
      "[Epoch 0/1] [Batch 3400/14354] [D loss: 0.000448] [G loss: 0.557048, content: 0.505244, adv: 10.063316, pixel: 0.148676]\n",
      "[Epoch 0/1] [Batch 3450/14354] [D loss: 1.252021] [G loss: 0.452144, content: 0.448587, adv: 0.539287, pixel: 0.086029]\n",
      "[Epoch 0/1] [Batch 3500/14354] [D loss: 0.018368] [G loss: 0.490863, content: 0.465810, adv: 4.640808, pixel: 0.184924]\n",
      "[Epoch 0/1] [Batch 3550/14354] [D loss: 1.816078] [G loss: 0.593898, content: 0.587490, adv: 0.859638, pixel: 0.210958]\n",
      "[Epoch 0/1] [Batch 3600/14354] [D loss: 0.036801] [G loss: 0.357731, content: 0.333055, adv: 4.652238, pixel: 0.141538]\n",
      "[Epoch 0/1] [Batch 3650/14354] [D loss: 1.086593] [G loss: 0.680114, content: 0.675942, adv: 0.557004, pixel: 0.138731]\n",
      "[Epoch 0/1] [Batch 3700/14354] [D loss: 0.035187] [G loss: 0.625576, content: 0.604205, adv: 4.052100, pixel: 0.111040]\n",
      "[Epoch 0/1] [Batch 3750/14354] [D loss: 0.051131] [G loss: 0.837288, content: 0.812916, adv: 4.435666, pixel: 0.219409]\n",
      "[Epoch 0/1] [Batch 3800/14354] [D loss: 0.004829] [G loss: 0.804401, content: 0.767250, adv: 7.154797, pixel: 0.137724]\n",
      "[Epoch 0/1] [Batch 3850/14354] [D loss: 0.059728] [G loss: 0.883832, content: 0.862221, adv: 3.935013, pixel: 0.193607]\n",
      "[Epoch 0/1] [Batch 3900/14354] [D loss: 0.024450] [G loss: 0.845603, content: 0.817540, adv: 5.224025, pixel: 0.194260]\n",
      "[Epoch 0/1] [Batch 3950/14354] [D loss: 0.020933] [G loss: 0.797585, content: 0.774200, adv: 4.398831, pixel: 0.139067]\n",
      "[Epoch 0/1] [Batch 4000/14354] [D loss: 0.000389] [G loss: 0.531113, content: 0.478333, adv: 10.265435, pixel: 0.145243]\n",
      "[Epoch 0/1] [Batch 4050/14354] [D loss: 0.227378] [G loss: 0.411296, content: 0.399779, adv: 2.081941, pixel: 0.110737]\n",
      "[Epoch 0/1] [Batch 4100/14354] [D loss: 0.022116] [G loss: 0.619267, content: 0.591043, adv: 5.390492, pixel: 0.127114]\n",
      "[Epoch 0/1] [Batch 4150/14354] [D loss: 0.082452] [G loss: 1.062290, content: 1.042902, adv: 3.516235, pixel: 0.180643]\n",
      "[Epoch 0/1] [Batch 4200/14354] [D loss: 0.031361] [G loss: 1.036160, content: 1.003545, adv: 5.957340, pixel: 0.282846]\n",
      "[Epoch 0/1] [Batch 4250/14354] [D loss: 0.153066] [G loss: 0.788054, content: 0.775411, adv: 2.244616, pixel: 0.141986]\n",
      "[Epoch 0/1] [Batch 4300/14354] [D loss: 0.028388] [G loss: 0.754895, content: 0.724864, adv: 5.716548, pixel: 0.144783]\n",
      "[Epoch 0/1] [Batch 4350/14354] [D loss: 0.003670] [G loss: 0.756870, content: 0.718649, adv: 7.394056, pixel: 0.125077]\n",
      "[Epoch 0/1] [Batch 4400/14354] [D loss: 0.051639] [G loss: 0.736798, content: 0.714957, adv: 4.143608, pixel: 0.112296]\n",
      "[Epoch 0/1] [Batch 4450/14354] [D loss: 0.331648] [G loss: 0.449817, content: 0.440969, adv: 1.454845, pixel: 0.157315]\n",
      "[Epoch 0/1] [Batch 4500/14354] [D loss: 0.070406] [G loss: 0.781900, content: 0.763174, adv: 3.390369, pixel: 0.177368]\n",
      "[Epoch 0/1] [Batch 4550/14354] [D loss: 1.351295] [G loss: 0.969643, content: 0.965302, adv: 0.584658, pixel: 0.141687]\n",
      "[Epoch 0/1] [Batch 4600/14354] [D loss: 0.566726] [G loss: 0.668731, content: 0.662338, adv: 1.096680, pixel: 0.091015]\n",
      "[Epoch 0/1] [Batch 4650/14354] [D loss: 0.014804] [G loss: 0.948712, content: 0.921172, adv: 5.142901, pixel: 0.182524]\n",
      "[Epoch 0/1] [Batch 4700/14354] [D loss: 0.473967] [G loss: 0.509017, content: 0.499929, adv: 1.626445, pixel: 0.095543]\n",
      "[Epoch 0/1] [Batch 4750/14354] [D loss: 0.433533] [G loss: 0.598185, content: 0.589087, adv: 1.554350, pixel: 0.132616]\n",
      "[Epoch 0/1] [Batch 4800/14354] [D loss: 0.000583] [G loss: 0.794689, content: 0.744337, adv: 9.805222, pixel: 0.132549]\n",
      "[Epoch 0/1] [Batch 4850/14354] [D loss: 0.181456] [G loss: 0.557970, content: 0.546631, adv: 2.020986, pixel: 0.123390]\n",
      "[Epoch 0/1] [Batch 4900/14354] [D loss: 0.034981] [G loss: 0.274438, content: 0.255285, adv: 3.588237, pixel: 0.121195]\n",
      "[Epoch 0/1] [Batch 4950/14354] [D loss: 0.055492] [G loss: 0.621336, content: 0.601847, adv: 3.472495, pixel: 0.212642]\n",
      "[Epoch 0/1] [Batch 5000/14354] [D loss: 0.267180] [G loss: 0.346630, content: 0.331638, adv: 2.823209, pixel: 0.087585]\n",
      "[Epoch 0/1] [Batch 5050/14354] [D loss: 0.197789] [G loss: 0.597558, content: 0.586245, adv: 2.061823, pixel: 0.100409]\n",
      "[Epoch 0/1] [Batch 5100/14354] [D loss: 0.515236] [G loss: 0.740520, content: 0.730362, adv: 1.756622, pixel: 0.137436]\n",
      "[Epoch 0/1] [Batch 5150/14354] [D loss: 0.100296] [G loss: 0.819693, content: 0.803405, adv: 2.919835, pixel: 0.168838]\n",
      "[Epoch 0/1] [Batch 5200/14354] [D loss: 0.154743] [G loss: 0.664178, content: 0.651137, adv: 2.266239, pixel: 0.171012]\n",
      "[Epoch 0/1] [Batch 5250/14354] [D loss: 0.005967] [G loss: 0.459421, content: 0.426154, adv: 6.483482, pixel: 0.084887]\n",
      "[Epoch 0/1] [Batch 5300/14354] [D loss: 0.313051] [G loss: 0.976084, content: 0.963349, adv: 2.335505, pixel: 0.105720]\n",
      "[Epoch 0/1] [Batch 5350/14354] [D loss: 0.001513] [G loss: 0.557994, content: 0.514084, adv: 8.519140, pixel: 0.131450]\n",
      "[Epoch 0/1] [Batch 5400/14354] [D loss: 0.023142] [G loss: 0.441332, content: 0.415315, adv: 5.053923, pixel: 0.074717]\n",
      "[Epoch 0/1] [Batch 5450/14354] [D loss: 1.111585] [G loss: 0.632400, content: 0.627569, adv: 0.595200, pixel: 0.185566]\n",
      "[Epoch 0/1] [Batch 5500/14354] [D loss: 0.002364] [G loss: 1.046350, content: 0.999177, adv: 8.950361, pixel: 0.242128]\n",
      "[Epoch 0/1] [Batch 5550/14354] [D loss: 0.237648] [G loss: 0.575596, content: 0.564778, adv: 1.840183, pixel: 0.161708]\n",
      "[Epoch 0/1] [Batch 5600/14354] [D loss: 0.006282] [G loss: 0.993863, content: 0.958467, adv: 6.668615, pixel: 0.205235]\n",
      "[Epoch 0/1] [Batch 5650/14354] [D loss: 0.015070] [G loss: 0.749487, content: 0.723269, adv: 4.966180, pixel: 0.138660]\n",
      "[Epoch 0/1] [Batch 5700/14354] [D loss: 0.072670] [G loss: 0.523946, content: 0.505527, adv: 3.485813, pixel: 0.098953]\n",
      "[Epoch 0/1] [Batch 5750/14354] [D loss: 0.006921] [G loss: 0.463881, content: 0.428406, adv: 6.924863, pixel: 0.085050]\n",
      "[Epoch 0/1] [Batch 5800/14354] [D loss: 0.010048] [G loss: 0.798871, content: 0.769429, adv: 5.638633, pixel: 0.124838]\n",
      "[Epoch 0/1] [Batch 5850/14354] [D loss: 0.101064] [G loss: 0.888131, content: 0.864446, adv: 4.045310, pixel: 0.345900]\n",
      "[Epoch 0/1] [Batch 5900/14354] [D loss: 0.198554] [G loss: 0.446241, content: 0.434787, adv: 2.162777, pixel: 0.064044]\n",
      "[Epoch 0/1] [Batch 5950/14354] [D loss: 0.008903] [G loss: 0.523718, content: 0.494581, adv: 5.617757, pixel: 0.104757]\n",
      "[Epoch 0/1] [Batch 6000/14354] [D loss: 0.034547] [G loss: 0.448992, content: 0.426334, adv: 4.362491, pixel: 0.084495]\n",
      "[Epoch 0/1] [Batch 6050/14354] [D loss: 0.046364] [G loss: 0.495198, content: 0.475443, adv: 3.683027, pixel: 0.133939]\n",
      "[Epoch 0/1] [Batch 6100/14354] [D loss: 0.060903] [G loss: 0.788556, content: 0.770883, adv: 3.188788, pixel: 0.172917]\n",
      "[Epoch 0/1] [Batch 6150/14354] [D loss: 0.113978] [G loss: 0.570249, content: 0.555515, adv: 2.760963, pixel: 0.092950]\n",
      "[Epoch 0/1] [Batch 6200/14354] [D loss: 0.001562] [G loss: 0.857407, content: 0.816445, adv: 7.862091, pixel: 0.165128]\n",
      "[Epoch 0/1] [Batch 6250/14354] [D loss: 0.844881] [G loss: 0.524556, content: 0.519621, adv: 0.750384, pixel: 0.118332]\n",
      "[Epoch 0/1] [Batch 6300/14354] [D loss: 0.305498] [G loss: 0.639803, content: 0.629346, adv: 1.832096, pixel: 0.129731]\n",
      "[Epoch 0/1] [Batch 6350/14354] [D loss: 0.013236] [G loss: 0.747994, content: 0.720173, adv: 5.333488, pixel: 0.115285]\n",
      "[Epoch 0/1] [Batch 6400/14354] [D loss: 0.006096] [G loss: 1.015405, content: 0.981860, adv: 6.387542, pixel: 0.160732]\n",
      "[Epoch 0/1] [Batch 6450/14354] [D loss: 0.014747] [G loss: 0.597315, content: 0.571303, adv: 5.003623, pixel: 0.099414]\n",
      "[Epoch 0/1] [Batch 6500/14354] [D loss: 0.013027] [G loss: 0.641643, content: 0.614419, adv: 5.138723, pixel: 0.153053]\n",
      "[Epoch 0/1] [Batch 6550/14354] [D loss: 0.005698] [G loss: 0.756620, content: 0.715556, adv: 7.753104, pixel: 0.229833]\n",
      "[Epoch 0/1] [Batch 6600/14354] [D loss: 0.026091] [G loss: 0.851801, content: 0.828548, adv: 4.402711, pixel: 0.123963]\n",
      "[Epoch 0/1] [Batch 6650/14354] [D loss: 0.064686] [G loss: 1.036480, content: 1.017529, adv: 3.464211, pixel: 0.163020]\n",
      "[Epoch 0/1] [Batch 6700/14354] [D loss: 0.035001] [G loss: 0.630844, content: 0.608758, adv: 4.074201, pixel: 0.171432]\n",
      "[Epoch 0/1] [Batch 6750/14354] [D loss: 0.056750] [G loss: 0.798880, content: 0.777379, adv: 3.962851, pixel: 0.168611]\n",
      "[Epoch 0/1] [Batch 6800/14354] [D loss: 0.002952] [G loss: 0.499084, content: 0.455708, adv: 8.369937, pixel: 0.152624]\n",
      "[Epoch 0/1] [Batch 6850/14354] [D loss: 0.414659] [G loss: 0.481422, content: 0.472572, adv: 1.536747, pixel: 0.116591]\n",
      "[Epoch 0/1] [Batch 6900/14354] [D loss: 0.003552] [G loss: 0.709055, content: 0.673935, adv: 6.738596, pixel: 0.142672]\n",
      "[Epoch 0/1] [Batch 6950/14354] [D loss: 0.854632] [G loss: 0.649995, content: 0.645853, adv: 0.633615, pixel: 0.097379]\n",
      "[Epoch 0/1] [Batch 7000/14354] [D loss: 0.003146] [G loss: 0.647745, content: 0.608131, adv: 7.628190, pixel: 0.147341]\n",
      "[Epoch 0/1] [Batch 7050/14354] [D loss: 0.027427] [G loss: 0.846169, content: 0.819285, adv: 4.903904, pixel: 0.236480]\n",
      "[Epoch 0/1] [Batch 7100/14354] [D loss: 0.369669] [G loss: 0.366021, content: 0.356264, adv: 1.685564, pixel: 0.132932]\n",
      "[Epoch 0/1] [Batch 7150/14354] [D loss: 0.004515] [G loss: 0.549278, content: 0.516112, adv: 6.480564, pixel: 0.076324]\n",
      "[Epoch 0/1] [Batch 7200/14354] [D loss: 0.104986] [G loss: 0.696165, content: 0.678421, adv: 3.227763, pixel: 0.160434]\n",
      "[Epoch 0/1] [Batch 7250/14354] [D loss: 0.022629] [G loss: 0.696218, content: 0.672414, adv: 4.388667, pixel: 0.186086]\n",
      "[Epoch 0/1] [Batch 7300/14354] [D loss: 0.021766] [G loss: 0.959404, content: 0.932999, adv: 4.868175, pixel: 0.206417]\n",
      "[Epoch 0/1] [Batch 7350/14354] [D loss: 0.000080] [G loss: 0.647690, content: 0.578617, adv: 13.486270, pixel: 0.164228]\n",
      "[Epoch 0/1] [Batch 7400/14354] [D loss: 0.086020] [G loss: 0.455814, content: 0.438268, adv: 3.233552, pixel: 0.137768]\n",
      "[Epoch 0/1] [Batch 7450/14354] [D loss: 0.008275] [G loss: 0.606967, content: 0.576476, adv: 5.871749, pixel: 0.113203]\n",
      "[Epoch 0/1] [Batch 7500/14354] [D loss: 0.000031] [G loss: 0.562250, content: 0.483344, adv: 15.565204, pixel: 0.107997]\n",
      "[Epoch 0/1] [Batch 7550/14354] [D loss: 0.185451] [G loss: 0.410898, content: 0.399615, adv: 2.104232, pixel: 0.076174]\n",
      "[Epoch 0/1] [Batch 7600/14354] [D loss: 0.055290] [G loss: 0.919053, content: 0.895700, adv: 4.435972, pixel: 0.117254]\n",
      "[Epoch 0/1] [Batch 7650/14354] [D loss: 0.156213] [G loss: 0.907485, content: 0.885497, adv: 3.814862, pixel: 0.291358]\n",
      "[Epoch 0/1] [Batch 7700/14354] [D loss: 0.061846] [G loss: 0.803450, content: 0.784589, adv: 3.495856, pixel: 0.138159]\n",
      "[Epoch 0/1] [Batch 7750/14354] [D loss: 0.215701] [G loss: 0.642447, content: 0.631021, adv: 2.023955, pixel: 0.130675]\n",
      "[Epoch 0/1] [Batch 7800/14354] [D loss: 0.005201] [G loss: 0.912805, content: 0.874225, adv: 7.422235, pixel: 0.146923]\n",
      "[Epoch 0/1] [Batch 7850/14354] [D loss: 0.000209] [G loss: 0.574217, content: 0.521212, adv: 10.390612, pixel: 0.105183]\n",
      "[Epoch 0/1] [Batch 7900/14354] [D loss: 0.007577] [G loss: 0.446659, content: 0.413113, adv: 6.316725, pixel: 0.196220]\n",
      "[Epoch 0/1] [Batch 7950/14354] [D loss: 0.023044] [G loss: 0.545759, content: 0.520083, adv: 4.869188, pixel: 0.132999]\n",
      "[Epoch 0/1] [Batch 8000/14354] [D loss: 0.079456] [G loss: 0.830008, content: 0.812498, adv: 3.268144, pixel: 0.116919]\n",
      "[Epoch 0/1] [Batch 8050/14354] [D loss: 0.106881] [G loss: 0.504942, content: 0.489987, adv: 2.732344, pixel: 0.129276]\n",
      "[Epoch 0/1] [Batch 8100/14354] [D loss: 0.000120] [G loss: 0.749424, content: 0.686960, adv: 12.039898, pixel: 0.226376]\n",
      "[Epoch 0/1] [Batch 8150/14354] [D loss: 0.001476] [G loss: 0.530017, content: 0.488291, adv: 8.115162, pixel: 0.115043]\n",
      "[Epoch 0/1] [Batch 8200/14354] [D loss: 0.000465] [G loss: 0.724428, content: 0.671388, adv: 10.367278, pixel: 0.120311]\n",
      "[Epoch 0/1] [Batch 8250/14354] [D loss: 0.057884] [G loss: 0.605003, content: 0.585668, adv: 3.630603, pixel: 0.118140]\n",
      "[Epoch 0/1] [Batch 8300/14354] [D loss: 0.002739] [G loss: 0.905321, content: 0.868315, adv: 7.027110, pixel: 0.187036]\n",
      "[Epoch 0/1] [Batch 8350/14354] [D loss: 0.000539] [G loss: 0.857407, content: 0.807853, adv: 9.691605, pixel: 0.109630]\n",
      "[Epoch 0/1] [Batch 8400/14354] [D loss: 0.013732] [G loss: 0.772382, content: 0.747323, adv: 4.799588, pixel: 0.106199]\n",
      "[Epoch 0/1] [Batch 8450/14354] [D loss: 0.001524] [G loss: 0.495692, content: 0.453010, adv: 8.374186, pixel: 0.081157]\n",
      "[Epoch 0/1] [Batch 8500/14354] [D loss: 0.179375] [G loss: 0.430052, content: 0.418046, adv: 2.232985, pixel: 0.084165]\n",
      "[Epoch 0/1] [Batch 8550/14354] [D loss: 0.052960] [G loss: 0.776337, content: 0.757276, adv: 3.557746, pixel: 0.127318]\n",
      "[Epoch 0/1] [Batch 8600/14354] [D loss: 0.812156] [G loss: 0.874188, content: 0.867853, adv: 0.896703, pixel: 0.185214]\n",
      "[Epoch 0/1] [Batch 8650/14354] [D loss: 0.043749] [G loss: 0.821791, content: 0.776459, adv: 8.723657, pixel: 0.171372]\n",
      "[Epoch 0/1] [Batch 8700/14354] [D loss: 0.001594] [G loss: 0.851701, content: 0.801886, adv: 9.606483, pixel: 0.178263]\n",
      "[Epoch 0/1] [Batch 8750/14354] [D loss: 0.001489] [G loss: 0.864553, content: 0.819596, adv: 8.439869, pixel: 0.275807]\n",
      "[Epoch 0/1] [Batch 8800/14354] [D loss: 0.040153] [G loss: 0.685466, content: 0.663235, adv: 4.189912, pixel: 0.128159]\n",
      "[Epoch 0/1] [Batch 8850/14354] [D loss: 0.009770] [G loss: 0.440742, content: 0.409353, adv: 6.103474, pixel: 0.087158]\n",
      "[Epoch 0/1] [Batch 8900/14354] [D loss: 0.095862] [G loss: 0.547709, content: 0.531791, adv: 2.964532, pixel: 0.109536]\n",
      "[Epoch 0/1] [Batch 8950/14354] [D loss: 0.055196] [G loss: 0.487662, content: 0.467374, adv: 3.880877, pixel: 0.088408]\n",
      "[Epoch 0/1] [Batch 9000/14354] [D loss: 0.044783] [G loss: 0.600980, content: 0.574172, adv: 4.766387, pixel: 0.297596]\n",
      "[Epoch 0/1] [Batch 9050/14354] [D loss: 0.010809] [G loss: 1.120190, content: 1.081454, adv: 7.317863, pixel: 0.214643]\n",
      "[Epoch 0/1] [Batch 9100/14354] [D loss: 0.002736] [G loss: 0.636374, content: 0.600095, adv: 7.016295, pixel: 0.119754]\n",
      "[Epoch 0/1] [Batch 9150/14354] [D loss: 0.006635] [G loss: 0.652449, content: 0.622558, adv: 5.780273, pixel: 0.098916]\n",
      "[Epoch 0/1] [Batch 9200/14354] [D loss: 0.107927] [G loss: 0.490543, content: 0.473128, adv: 3.320678, pixel: 0.081151]\n",
      "[Epoch 0/1] [Batch 9250/14354] [D loss: 0.017475] [G loss: 0.559492, content: 0.528186, adv: 6.038538, pixel: 0.111324]\n",
      "[Epoch 0/1] [Batch 9300/14354] [D loss: 0.004213] [G loss: 0.753690, content: 0.718302, adv: 6.823133, pixel: 0.127233]\n",
      "[Epoch 0/1] [Batch 9350/14354] [D loss: 0.005220] [G loss: 0.745168, content: 0.710298, adv: 6.788547, pixel: 0.092730]\n",
      "[Epoch 0/1] [Batch 9400/14354] [D loss: 0.008805] [G loss: 0.682034, content: 0.649456, adv: 6.189449, pixel: 0.163078]\n",
      "[Epoch 0/1] [Batch 9450/14354] [D loss: 0.015322] [G loss: 0.723682, content: 0.693898, adv: 5.502056, pixel: 0.227406]\n",
      "[Epoch 0/1] [Batch 9500/14354] [D loss: 0.000488] [G loss: 0.429750, content: 0.382187, adv: 9.277357, pixel: 0.117665]\n",
      "[Epoch 0/1] [Batch 9550/14354] [D loss: 0.001381] [G loss: 0.472513, content: 0.432079, adv: 7.956154, pixel: 0.065343]\n",
      "[Epoch 0/1] [Batch 9600/14354] [D loss: 0.007596] [G loss: 1.451350, content: 1.415968, adv: 6.557231, pixel: 0.259625]\n",
      "[Epoch 0/1] [Batch 9650/14354] [D loss: 0.003838] [G loss: 0.658693, content: 0.623561, adv: 6.804286, pixel: 0.111120]\n",
      "[Epoch 0/1] [Batch 9700/14354] [D loss: 0.024886] [G loss: 0.764292, content: 0.733217, adv: 5.898315, pixel: 0.158371]\n",
      "[Epoch 0/1] [Batch 9750/14354] [D loss: 0.013310] [G loss: 0.652483, content: 0.624668, adv: 5.327537, pixel: 0.117730]\n",
      "[Epoch 0/1] [Batch 9800/14354] [D loss: 0.001057] [G loss: 0.491630, content: 0.450232, adv: 8.089287, pixel: 0.095202]\n",
      "[Epoch 0/1] [Batch 9850/14354] [D loss: 0.002910] [G loss: 0.680413, content: 0.638850, adv: 8.063139, pixel: 0.124760]\n",
      "[Epoch 0/1] [Batch 9900/14354] [D loss: 0.005925] [G loss: 1.172443, content: 1.133322, adv: 7.299709, pixel: 0.262215]\n",
      "[Epoch 0/1] [Batch 9950/14354] [D loss: 0.000420] [G loss: 0.748103, content: 0.691452, adv: 10.999888, pixel: 0.165153]\n",
      "[Epoch 0/1] [Batch 10000/14354] [D loss: 0.000525] [G loss: 0.556390, content: 0.507383, adv: 9.621813, pixel: 0.089787]\n",
      "[Epoch 0/1] [Batch 10050/14354] [D loss: 0.003216] [G loss: 0.744397, content: 0.704028, adv: 7.841315, pixel: 0.116239]\n",
      "[Epoch 0/1] [Batch 10100/14354] [D loss: 0.000481] [G loss: 0.603892, content: 0.552476, adv: 10.088416, pixel: 0.097349]\n",
      "[Epoch 0/1] [Batch 10150/14354] [D loss: 0.006244] [G loss: 0.703734, content: 0.668195, adv: 6.848633, pixel: 0.129541]\n",
      "[Epoch 0/1] [Batch 10200/14354] [D loss: 0.029790] [G loss: 0.896190, content: 0.861827, adv: 6.253854, pixel: 0.309395]\n",
      "[Epoch 0/1] [Batch 10250/14354] [D loss: 0.017806] [G loss: 0.556242, content: 0.528636, adv: 5.331034, pixel: 0.095044]\n",
      "[Epoch 0/1] [Batch 10300/14354] [D loss: 0.004204] [G loss: 0.822154, content: 0.766556, adv: 10.803396, pixel: 0.158099]\n",
      "[Epoch 0/1] [Batch 10350/14354] [D loss: 0.000352] [G loss: 0.999928, content: 0.941739, adv: 11.405249, pixel: 0.116287]\n",
      "[Epoch 0/1] [Batch 10400/14354] [D loss: 0.000129] [G loss: 0.881139, content: 0.811386, adv: 13.722377, pixel: 0.114090]\n",
      "[Epoch 0/1] [Batch 10450/14354] [D loss: 0.002873] [G loss: 0.938124, content: 0.899667, adv: 7.448593, pixel: 0.121405]\n",
      "[Epoch 0/1] [Batch 10500/14354] [D loss: 0.005498] [G loss: 0.720639, content: 0.683633, adv: 7.186531, pixel: 0.107271]\n",
      "[Epoch 0/1] [Batch 10550/14354] [D loss: 0.001114] [G loss: 0.683924, content: 0.636635, adv: 9.215888, pixel: 0.120896]\n",
      "[Epoch 0/1] [Batch 10600/14354] [D loss: 0.020950] [G loss: 0.374428, content: 0.347298, adv: 5.260373, pixel: 0.082807]\n",
      "[Epoch 0/1] [Batch 10650/14354] [D loss: 0.000848] [G loss: 0.829911, content: 0.771513, adv: 11.241575, pixel: 0.219007]\n",
      "[Epoch 0/1] [Batch 10700/14354] [D loss: 0.051274] [G loss: 0.675665, content: 0.637888, adv: 7.224638, pixel: 0.165316]\n",
      "[Epoch 0/1] [Batch 10750/14354] [D loss: 0.040849] [G loss: 0.749827, content: 0.709201, adv: 7.856741, pixel: 0.134245]\n",
      "[Epoch 0/1] [Batch 10800/14354] [D loss: 0.047519] [G loss: 0.956236, content: 0.930646, adv: 4.716682, pixel: 0.200704]\n",
      "[Epoch 0/1] [Batch 10850/14354] [D loss: 0.002278] [G loss: 0.562309, content: 0.511238, adv: 10.052063, pixel: 0.081080]\n",
      "[Epoch 0/1] [Batch 10900/14354] [D loss: 0.041646] [G loss: 0.304314, content: 0.281043, adv: 4.470814, pixel: 0.091614]\n",
      "[Epoch 0/1] [Batch 10950/14354] [D loss: 0.066193] [G loss: 0.782067, content: 0.760741, adv: 4.111650, pixel: 0.076742]\n",
      "[Epoch 0/1] [Batch 11000/14354] [D loss: 0.159783] [G loss: 0.807396, content: 0.789002, adv: 3.403488, pixel: 0.137695]\n",
      "[Epoch 0/1] [Batch 11050/14354] [D loss: 0.000451] [G loss: 0.832237, content: 0.776887, adv: 10.825003, pixel: 0.122501]\n",
      "[Epoch 0/1] [Batch 11100/14354] [D loss: 0.012108] [G loss: 0.402042, content: 0.369737, adv: 6.238060, pixel: 0.111498]\n",
      "[Epoch 0/1] [Batch 11150/14354] [D loss: 0.007990] [G loss: 0.607297, content: 0.575514, adv: 6.195081, pixel: 0.080761]\n",
      "[Epoch 0/1] [Batch 11200/14354] [D loss: 0.048097] [G loss: 0.640534, content: 0.617606, adv: 4.341452, pixel: 0.122103]\n",
      "[Epoch 0/1] [Batch 11250/14354] [D loss: 0.254261] [G loss: 0.576980, content: 0.565109, adv: 2.064019, pixel: 0.155064]\n",
      "[Epoch 0/1] [Batch 11300/14354] [D loss: 0.000514] [G loss: 0.528091, content: 0.477211, adv: 9.939726, pixel: 0.118078]\n",
      "[Epoch 0/1] [Batch 11350/14354] [D loss: 0.002295] [G loss: 0.648157, content: 0.604996, adv: 8.280519, pixel: 0.175806]\n",
      "[Epoch 0/1] [Batch 11400/14354] [D loss: 0.009972] [G loss: 0.384350, content: 0.353846, adv: 5.976485, pixel: 0.062152]\n",
      "[Epoch 0/1] [Batch 11450/14354] [D loss: 0.133454] [G loss: 0.720452, content: 0.702440, adv: 3.309217, pixel: 0.146613]\n",
      "[Epoch 0/1] [Batch 11500/14354] [D loss: 0.052831] [G loss: 0.614819, content: 0.594686, adv: 3.822528, pixel: 0.102054]\n",
      "[Epoch 0/1] [Batch 11550/14354] [D loss: 0.000056] [G loss: 0.679190, content: 0.608139, adv: 13.942144, pixel: 0.134094]\n",
      "[Epoch 0/1] [Batch 11600/14354] [D loss: 0.163137] [G loss: 0.601201, content: 0.578950, adv: 4.143367, pixel: 0.153401]\n",
      "[Epoch 0/1] [Batch 11650/14354] [D loss: 0.000576] [G loss: 0.362829, content: 0.315717, adv: 9.247753, pixel: 0.087324]\n",
      "[Epoch 0/1] [Batch 11700/14354] [D loss: 0.101161] [G loss: 0.677976, content: 0.658658, adv: 3.629963, pixel: 0.116902]\n",
      "[Epoch 0/1] [Batch 11750/14354] [D loss: 0.005518] [G loss: 0.586004, content: 0.552383, adv: 6.515203, pixel: 0.104431]\n",
      "[Epoch 0/1] [Batch 11800/14354] [D loss: 0.004393] [G loss: 0.483235, content: 0.443737, adv: 7.469786, pixel: 0.214868]\n",
      "[Epoch 0/1] [Batch 11850/14354] [D loss: 0.027376] [G loss: 0.588045, content: 0.565107, adv: 4.419323, pixel: 0.084085]\n",
      "[Epoch 0/1] [Batch 11900/14354] [D loss: 0.081812] [G loss: 0.231876, content: 0.204857, adv: 5.312430, pixel: 0.045742]\n",
      "[Epoch 0/1] [Batch 11950/14354] [D loss: 0.079163] [G loss: 0.521483, content: 0.500566, adv: 3.833583, pixel: 0.174850]\n",
      "[Epoch 0/1] [Batch 12000/14354] [D loss: 0.028006] [G loss: 0.420126, content: 0.398339, adv: 4.182784, pixel: 0.087325]\n",
      "[Epoch 0/1] [Batch 12050/14354] [D loss: 0.006201] [G loss: 0.551110, content: 0.519133, adv: 6.180650, pixel: 0.107379]\n",
      "[Epoch 0/1] [Batch 12100/14354] [D loss: 0.003499] [G loss: 0.587810, content: 0.550638, adv: 7.170540, pixel: 0.131946]\n",
      "[Epoch 0/1] [Batch 12150/14354] [D loss: 0.000362] [G loss: 0.713045, content: 0.654945, adv: 11.381477, pixel: 0.119303]\n",
      "[Epoch 0/1] [Batch 12200/14354] [D loss: 0.002411] [G loss: 0.762840, content: 0.724702, adv: 7.450067, pixel: 0.088852]\n",
      "[Epoch 0/1] [Batch 12250/14354] [D loss: 0.004927] [G loss: 0.847751, content: 0.808825, adv: 7.577238, pixel: 0.104031]\n",
      "[Epoch 0/1] [Batch 12300/14354] [D loss: 0.028702] [G loss: 0.468549, content: 0.445045, adv: 4.545211, pixel: 0.077740]\n",
      "[Epoch 0/1] [Batch 12350/14354] [D loss: 0.010293] [G loss: 0.960477, content: 0.926504, adv: 6.282321, pixel: 0.256224]\n",
      "[Epoch 0/1] [Batch 12400/14354] [D loss: 0.005212] [G loss: 0.581254, content: 0.545002, adv: 6.869941, pixel: 0.190288]\n",
      "[Epoch 0/1] [Batch 12450/14354] [D loss: 0.000081] [G loss: 0.585987, content: 0.514168, adv: 14.218109, pixel: 0.072864]\n",
      "[Epoch 0/1] [Batch 12500/14354] [D loss: 0.003176] [G loss: 0.580533, content: 0.536140, adv: 8.617544, pixel: 0.130486]\n",
      "[Epoch 0/1] [Batch 12550/14354] [D loss: 0.000406] [G loss: 0.767378, content: 0.706101, adv: 12.008255, pixel: 0.123590]\n",
      "[Epoch 0/1] [Batch 12600/14354] [D loss: 0.000063] [G loss: 0.759137, content: 0.677892, adv: 15.746233, pixel: 0.251424]\n",
      "[Epoch 0/1] [Batch 12650/14354] [D loss: 0.013924] [G loss: 0.908425, content: 0.876147, adv: 6.193715, pixel: 0.130993]\n",
      "[Epoch 0/1] [Batch 12700/14354] [D loss: 0.013492] [G loss: 0.674092, content: 0.643627, adv: 5.901542, pixel: 0.095744]\n",
      "[Epoch 0/1] [Batch 12750/14354] [D loss: 0.022441] [G loss: 0.542411, content: 0.514856, adv: 5.177896, pixel: 0.166649]\n",
      "[Epoch 0/1] [Batch 12800/14354] [D loss: 0.630836] [G loss: 0.659177, content: 0.649649, adv: 1.601981, pixel: 0.151838]\n",
      "[Epoch 0/1] [Batch 12850/14354] [D loss: 0.008361] [G loss: 0.965874, content: 0.921146, adv: 8.648340, pixel: 0.148651]\n",
      "[Epoch 0/1] [Batch 12900/14354] [D loss: 0.002644] [G loss: 0.726858, content: 0.677967, adv: 9.510263, pixel: 0.133941]\n",
      "[Epoch 0/1] [Batch 12950/14354] [D loss: 0.003805] [G loss: 0.978118, content: 0.938693, adv: 7.517386, pixel: 0.183808]\n",
      "[Epoch 0/1] [Batch 13000/14354] [D loss: 0.001480] [G loss: 0.902629, content: 0.852691, adv: 9.561321, pixel: 0.213125]\n",
      "[Epoch 0/1] [Batch 13050/14354] [D loss: 0.081162] [G loss: 0.627896, content: 0.606700, adv: 3.888733, pixel: 0.175265]\n",
      "[Epoch 0/1] [Batch 13100/14354] [D loss: 0.008159] [G loss: 1.137791, content: 1.100612, adv: 6.988728, pixel: 0.223506]\n",
      "[Epoch 0/1] [Batch 13150/14354] [D loss: 0.014845] [G loss: 0.520282, content: 0.489401, adv: 5.960124, pixel: 0.108062]\n",
      "[Epoch 0/1] [Batch 13200/14354] [D loss: 0.016305] [G loss: 0.436438, content: 0.409768, adv: 5.139808, pixel: 0.097062]\n",
      "[Epoch 0/1] [Batch 13250/14354] [D loss: 0.047183] [G loss: 0.822153, content: 0.796960, adv: 4.729641, pixel: 0.154470]\n",
      "[Epoch 0/1] [Batch 13300/14354] [D loss: 0.021330] [G loss: 0.688313, content: 0.659298, adv: 5.584789, pixel: 0.109125]\n",
      "[Epoch 0/1] [Batch 13350/14354] [D loss: 0.025450] [G loss: 0.734479, content: 0.705588, adv: 5.517353, pixel: 0.130424]\n",
      "[Epoch 0/1] [Batch 13400/14354] [D loss: 0.003937] [G loss: 0.405232, content: 0.364838, adv: 7.928781, pixel: 0.074979]\n",
      "[Epoch 0/1] [Batch 13450/14354] [D loss: 0.031838] [G loss: 0.684152, content: 0.656316, adv: 5.170209, pixel: 0.198462]\n",
      "[Epoch 0/1] [Batch 13500/14354] [D loss: 0.172348] [G loss: 0.627043, content: 0.611060, adv: 2.826982, pixel: 0.184782]\n",
      "[Epoch 0/1] [Batch 13550/14354] [D loss: 0.013258] [G loss: 0.874007, content: 0.843267, adv: 5.854696, pixel: 0.146609]\n",
      "[Epoch 0/1] [Batch 13600/14354] [D loss: 0.076608] [G loss: 0.672891, content: 0.651998, adv: 3.954564, pixel: 0.112027]\n",
      "[Epoch 0/1] [Batch 13650/14354] [D loss: 0.028067] [G loss: 0.551976, content: 0.518990, adv: 6.188229, pixel: 0.204489]\n",
      "[Epoch 0/1] [Batch 13700/14354] [D loss: 0.249857] [G loss: 0.402046, content: 0.388240, adv: 2.381267, pixel: 0.190014]\n",
      "[Epoch 0/1] [Batch 13750/14354] [D loss: 0.007186] [G loss: 0.657664, content: 0.618964, adv: 7.412589, pixel: 0.163690]\n",
      "[Epoch 0/1] [Batch 13800/14354] [D loss: 0.001595] [G loss: 0.541051, content: 0.498084, adv: 8.286744, pixel: 0.153370]\n",
      "[Epoch 0/1] [Batch 13850/14354] [D loss: 0.045705] [G loss: 0.379545, content: 0.352007, adv: 5.325477, pixel: 0.091092]\n",
      "[Epoch 0/1] [Batch 13900/14354] [D loss: 0.502073] [G loss: 0.425327, content: 0.402860, adv: 4.231996, pixel: 0.130790]\n",
      "[Epoch 0/1] [Batch 13950/14354] [D loss: 0.002427] [G loss: 0.567250, content: 0.521847, adv: 8.672826, pixel: 0.203907]\n",
      "[Epoch 0/1] [Batch 14000/14354] [D loss: 0.005301] [G loss: 0.513072, content: 0.478133, adv: 6.619596, pixel: 0.184062]\n",
      "[Epoch 0/1] [Batch 14050/14354] [D loss: 0.011356] [G loss: 1.104159, content: 1.061932, adv: 8.152849, pixel: 0.146240]\n",
      "[Epoch 0/1] [Batch 14100/14354] [D loss: 0.014115] [G loss: 0.600079, content: 0.572744, adv: 5.256011, pixel: 0.105486]\n",
      "[Epoch 0/1] [Batch 14150/14354] [D loss: 0.004445] [G loss: 0.817064, content: 0.777758, adv: 7.481147, pixel: 0.190085]\n",
      "[Epoch 0/1] [Batch 14200/14354] [D loss: 0.004147] [G loss: 0.639713, content: 0.603073, adv: 7.068091, pixel: 0.129886]\n",
      "[Epoch 0/1] [Batch 14250/14354] [D loss: 0.000305] [G loss: 0.400125, content: 0.347313, adv: 10.453959, pixel: 0.054232]\n",
      "[Epoch 0/1] [Batch 14300/14354] [D loss: 0.070153] [G loss: 0.465205, content: 0.447228, adv: 3.441420, pixel: 0.076963]\n",
      "[Epoch 0/1] [Batch 14350/14354] [D loss: 0.199425] [G loss: 0.665708, content: 0.653208, adv: 2.350174, pixel: 0.074865]\n"
     ]
    }
   ],
   "source": [
    "for epoch in range(opt.epoch, opt.n_epoch):\n",
    "    for i, imgs in enumerate(dataloader):\n",
    "        batches_done = epoch * len(dataloader) + i\n",
    "\n",
    "        # Configure model input\n",
    "        imgs_lr = Variable(imgs[0])\n",
    "        imgs_hr = Variable(imgs[1])\n",
    "\n",
    "        # Adversarial ground truths\n",
    "        valid = Variable(Tensor(np.ones((imgs_lr.size(0), *discriminator.output_shape))), requires_grad=False)\n",
    "        fake = Variable(Tensor(np.zeros((imgs_lr.size(0), *discriminator.output_shape))), requires_grad=False)\n",
    "\n",
    "        # ------------------\n",
    "        #  Train Generators\n",
    "        # ------------------\n",
    "        optimizer_G.zero_grad()\n",
    "\n",
    "        # Generate a high resolution image from low resolution input\n",
    "        gen_hr = generator(imgs_lr)\n",
    "\n",
    "        # Measure pixel-wise loss against ground truth\n",
    "        loss_pixel = criterion_pixel(gen_hr, imgs_hr)\n",
    "\n",
    "        if batches_done < opt.warmup_batches:\n",
    "            # Warm-up (pixel-wise loss only)\n",
    "            imgs_lr\n",
    "            loss_pixel.backward()\n",
    "            optimizer_G.step()\n",
    "            if batches_done % 50 == 0:\n",
    "                print(\n",
    "                    \"[Epoch %d/%d] [Batch %d/%d] [G pixel: %f]\"\n",
    "                    % (epoch, opt.n_epoch, i, len(dataloader), loss_pixel.item())\n",
    "                )\n",
    "            if batches_done % opt.sample_interval == 0:\n",
    "                # Save Test image passes to generator\n",
    "                with torch.no_grad():\n",
    "                    generator.eval()\n",
    "                    gen_hr = generator(img_lr_test.unsqueeze(0))\n",
    "                    img_grid = denormalize(gen_hr)\n",
    "                    save_image(img_grid, \"images/training/%d.png\" % batches_done, nrow=1, normalize=False)\n",
    "                    generator.train()\n",
    "            continue\n",
    "        # Extract validity predictions from discriminator\n",
    "        pred_real = discriminator(imgs_hr).detach()\n",
    "        pred_fake = discriminator(gen_hr)\n",
    "\n",
    "        # Adversarial loss (relativistic average GAN)\n",
    "        loss_GAN = criterion_GAN(pred_fake - pred_real.mean(0, keepdim=True), valid)\n",
    "\n",
    "        # Content loss\n",
    "        gen_features = feature_extractor(gen_hr)\n",
    "        real_features = feature_extractor(imgs_hr).detach()\n",
    "        loss_content = criterion_content(gen_features, real_features)\n",
    "\n",
    "        # Total generator loss\n",
    "        loss_G = loss_content + opt.lambda_adv * loss_GAN + opt.lambda_pixel * loss_pixel\n",
    "\n",
    "        loss_G.backward()\n",
    "        optimizer_G.step()\n",
    "        \n",
    "        # ---------------------\n",
    "        #  Train Discriminator\n",
    "        # ---------------------\n",
    "        optimizer_D.zero_grad()\n",
    "\n",
    "        pred_real = discriminator(imgs_hr)\n",
    "        pred_fake = discriminator(gen_hr.detach())\n",
    "\n",
    "        # Adversarial loss for real and fake images (relativistic average GAN)\n",
    "        loss_real = criterion_GAN(pred_real - pred_fake.mean(0, keepdim=True), valid)\n",
    "        loss_fake = criterion_GAN(pred_fake - pred_real.mean(0, keepdim=True), fake)\n",
    "\n",
    "        # Total loss\n",
    "        loss_D = (loss_real + loss_fake) / 2\n",
    "\n",
    "        loss_D.backward()\n",
    "        optimizer_D.step()\n",
    "\n",
    "        # --------------\n",
    "        #  Log Progress\n",
    "        # --------------\n",
    "        if batches_done % 50 == 0:\n",
    "            print(\n",
    "                \"[Epoch %d/%d] [Batch %d/%d] [D loss: %f] [G loss: %f, content: %f, adv: %f, pixel: %f]\"\n",
    "                % (\n",
    "                    epoch,\n",
    "                    opt.n_epoch,\n",
    "                    i,\n",
    "                    len(dataloader),\n",
    "                    loss_D.item(),\n",
    "                    loss_G.item(),\n",
    "                    loss_content.item(),\n",
    "                    loss_GAN.item(),\n",
    "                    loss_pixel.item(),\n",
    "                )\n",
    "            )\n",
    "\n",
    "        if batches_done % opt.sample_interval == 0:\n",
    "            # Save image grid with upsampled inputs and ESRGAN outputs\n",
    "            with torch.no_grad():\n",
    "                generator.eval()\n",
    "                gen_hr = generator(img_lr_test.unsqueeze(0))\n",
    "                img_grid = denormalize(gen_hr)\n",
    "                save_image(img_grid, \"images/training/%d.png\" % batches_done, nrow=1, normalize=False)\n",
    "                generator.train()\n",
    "\n",
    "        if batches_done % opt.checkpoint_interval == 0:\n",
    "            # Save model checkpoints\n",
    "            torch.save(generator.state_dict(), f\"saved_models/generator_{epoch}_{batches_done}.pth\")\n",
    "            torch.save(discriminator.state_dict(), f\"saved_models/discriminator_{epoch}_{batches_done}.pth\")"
   ]
  },
  {
   "cell_type": "code",
   "execution_count": null,
   "id": "7bd6d23c",
   "metadata": {
    "papermill": {
     "duration": 0.0218,
     "end_time": "2023-03-26T11:30:51.512370",
     "exception": false,
     "start_time": "2023-03-26T11:30:51.490570",
     "status": "completed"
    },
    "tags": []
   },
   "outputs": [],
   "source": []
  }
 ],
 "metadata": {
  "kernelspec": {
   "display_name": "Python 3",
   "language": "python",
   "name": "python3"
  },
  "language_info": {
   "codemirror_mode": {
    "name": "ipython",
    "version": 3
   },
   "file_extension": ".py",
   "mimetype": "text/x-python",
   "name": "python",
   "nbconvert_exporter": "python",
   "pygments_lexer": "ipython3",
   "version": "3.7.12"
  },
  "papermill": {
   "default_parameters": {},
   "duration": 19439.29936,
   "end_time": "2023-03-26T11:30:53.194831",
   "environment_variables": {},
   "exception": null,
   "input_path": "__notebook__.ipynb",
   "output_path": "__notebook__.ipynb",
   "parameters": {},
   "start_time": "2023-03-26T06:06:53.895471",
   "version": "2.4.0"
  },
  "widgets": {
   "application/vnd.jupyter.widget-state+json": {
    "state": {
     "15f12d1f08e24cdba645fbaa31bfc26f": {
      "model_module": "@jupyter-widgets/controls",
      "model_module_version": "1.5.0",
      "model_name": "ProgressStyleModel",
      "state": {
       "_model_module": "@jupyter-widgets/controls",
       "_model_module_version": "1.5.0",
       "_model_name": "ProgressStyleModel",
       "_view_count": null,
       "_view_module": "@jupyter-widgets/base",
       "_view_module_version": "1.2.0",
       "_view_name": "StyleView",
       "bar_color": null,
       "description_width": ""
      }
     },
     "276e8f7fb4ea4f2b8ca2c5b18ae8eebf": {
      "model_module": "@jupyter-widgets/controls",
      "model_module_version": "1.5.0",
      "model_name": "DescriptionStyleModel",
      "state": {
       "_model_module": "@jupyter-widgets/controls",
       "_model_module_version": "1.5.0",
       "_model_name": "DescriptionStyleModel",
       "_view_count": null,
       "_view_module": "@jupyter-widgets/base",
       "_view_module_version": "1.2.0",
       "_view_name": "StyleView",
       "description_width": ""
      }
     },
     "2dcd0961fe494501b2ea3f58624b5b73": {
      "model_module": "@jupyter-widgets/base",
      "model_module_version": "1.2.0",
      "model_name": "LayoutModel",
      "state": {
       "_model_module": "@jupyter-widgets/base",
       "_model_module_version": "1.2.0",
       "_model_name": "LayoutModel",
       "_view_count": null,
       "_view_module": "@jupyter-widgets/base",
       "_view_module_version": "1.2.0",
       "_view_name": "LayoutView",
       "align_content": null,
       "align_items": null,
       "align_self": null,
       "border": null,
       "bottom": null,
       "display": null,
       "flex": null,
       "flex_flow": null,
       "grid_area": null,
       "grid_auto_columns": null,
       "grid_auto_flow": null,
       "grid_auto_rows": null,
       "grid_column": null,
       "grid_gap": null,
       "grid_row": null,
       "grid_template_areas": null,
       "grid_template_columns": null,
       "grid_template_rows": null,
       "height": null,
       "justify_content": null,
       "justify_items": null,
       "left": null,
       "margin": null,
       "max_height": null,
       "max_width": null,
       "min_height": null,
       "min_width": null,
       "object_fit": null,
       "object_position": null,
       "order": null,
       "overflow": null,
       "overflow_x": null,
       "overflow_y": null,
       "padding": null,
       "right": null,
       "top": null,
       "visibility": null,
       "width": null
      }
     },
     "34d863377db040b7b216718683973f1d": {
      "model_module": "@jupyter-widgets/controls",
      "model_module_version": "1.5.0",
      "model_name": "DescriptionStyleModel",
      "state": {
       "_model_module": "@jupyter-widgets/controls",
       "_model_module_version": "1.5.0",
       "_model_name": "DescriptionStyleModel",
       "_view_count": null,
       "_view_module": "@jupyter-widgets/base",
       "_view_module_version": "1.2.0",
       "_view_name": "StyleView",
       "description_width": ""
      }
     },
     "3e3eb30f21bf40e8a92e678edc004d64": {
      "model_module": "@jupyter-widgets/base",
      "model_module_version": "1.2.0",
      "model_name": "LayoutModel",
      "state": {
       "_model_module": "@jupyter-widgets/base",
       "_model_module_version": "1.2.0",
       "_model_name": "LayoutModel",
       "_view_count": null,
       "_view_module": "@jupyter-widgets/base",
       "_view_module_version": "1.2.0",
       "_view_name": "LayoutView",
       "align_content": null,
       "align_items": null,
       "align_self": null,
       "border": null,
       "bottom": null,
       "display": null,
       "flex": null,
       "flex_flow": null,
       "grid_area": null,
       "grid_auto_columns": null,
       "grid_auto_flow": null,
       "grid_auto_rows": null,
       "grid_column": null,
       "grid_gap": null,
       "grid_row": null,
       "grid_template_areas": null,
       "grid_template_columns": null,
       "grid_template_rows": null,
       "height": null,
       "justify_content": null,
       "justify_items": null,
       "left": null,
       "margin": null,
       "max_height": null,
       "max_width": null,
       "min_height": null,
       "min_width": null,
       "object_fit": null,
       "object_position": null,
       "order": null,
       "overflow": null,
       "overflow_x": null,
       "overflow_y": null,
       "padding": null,
       "right": null,
       "top": null,
       "visibility": null,
       "width": null
      }
     },
     "42cc86fab80c4ff5a4d8fcd14119e5cb": {
      "model_module": "@jupyter-widgets/base",
      "model_module_version": "1.2.0",
      "model_name": "LayoutModel",
      "state": {
       "_model_module": "@jupyter-widgets/base",
       "_model_module_version": "1.2.0",
       "_model_name": "LayoutModel",
       "_view_count": null,
       "_view_module": "@jupyter-widgets/base",
       "_view_module_version": "1.2.0",
       "_view_name": "LayoutView",
       "align_content": null,
       "align_items": null,
       "align_self": null,
       "border": null,
       "bottom": null,
       "display": null,
       "flex": null,
       "flex_flow": null,
       "grid_area": null,
       "grid_auto_columns": null,
       "grid_auto_flow": null,
       "grid_auto_rows": null,
       "grid_column": null,
       "grid_gap": null,
       "grid_row": null,
       "grid_template_areas": null,
       "grid_template_columns": null,
       "grid_template_rows": null,
       "height": null,
       "justify_content": null,
       "justify_items": null,
       "left": null,
       "margin": null,
       "max_height": null,
       "max_width": null,
       "min_height": null,
       "min_width": null,
       "object_fit": null,
       "object_position": null,
       "order": null,
       "overflow": null,
       "overflow_x": null,
       "overflow_y": null,
       "padding": null,
       "right": null,
       "top": null,
       "visibility": null,
       "width": null
      }
     },
     "679f9e7be2ec42c89a4b2de9510fd9d5": {
      "model_module": "@jupyter-widgets/controls",
      "model_module_version": "1.5.0",
      "model_name": "HTMLModel",
      "state": {
       "_dom_classes": [],
       "_model_module": "@jupyter-widgets/controls",
       "_model_module_version": "1.5.0",
       "_model_name": "HTMLModel",
       "_view_count": null,
       "_view_module": "@jupyter-widgets/controls",
       "_view_module_version": "1.5.0",
       "_view_name": "HTMLView",
       "description": "",
       "description_tooltip": null,
       "layout": "IPY_MODEL_3e3eb30f21bf40e8a92e678edc004d64",
       "placeholder": "​",
       "style": "IPY_MODEL_276e8f7fb4ea4f2b8ca2c5b18ae8eebf",
       "value": " 548M/548M [00:14&lt;00:00, 40.7MB/s]"
      }
     },
     "7e677e71339c4daa8dc70143a0cee064": {
      "model_module": "@jupyter-widgets/base",
      "model_module_version": "1.2.0",
      "model_name": "LayoutModel",
      "state": {
       "_model_module": "@jupyter-widgets/base",
       "_model_module_version": "1.2.0",
       "_model_name": "LayoutModel",
       "_view_count": null,
       "_view_module": "@jupyter-widgets/base",
       "_view_module_version": "1.2.0",
       "_view_name": "LayoutView",
       "align_content": null,
       "align_items": null,
       "align_self": null,
       "border": null,
       "bottom": null,
       "display": null,
       "flex": null,
       "flex_flow": null,
       "grid_area": null,
       "grid_auto_columns": null,
       "grid_auto_flow": null,
       "grid_auto_rows": null,
       "grid_column": null,
       "grid_gap": null,
       "grid_row": null,
       "grid_template_areas": null,
       "grid_template_columns": null,
       "grid_template_rows": null,
       "height": null,
       "justify_content": null,
       "justify_items": null,
       "left": null,
       "margin": null,
       "max_height": null,
       "max_width": null,
       "min_height": null,
       "min_width": null,
       "object_fit": null,
       "object_position": null,
       "order": null,
       "overflow": null,
       "overflow_x": null,
       "overflow_y": null,
       "padding": null,
       "right": null,
       "top": null,
       "visibility": null,
       "width": null
      }
     },
     "870e112d996d4800ba04e653d2e34bdb": {
      "model_module": "@jupyter-widgets/controls",
      "model_module_version": "1.5.0",
      "model_name": "HBoxModel",
      "state": {
       "_dom_classes": [],
       "_model_module": "@jupyter-widgets/controls",
       "_model_module_version": "1.5.0",
       "_model_name": "HBoxModel",
       "_view_count": null,
       "_view_module": "@jupyter-widgets/controls",
       "_view_module_version": "1.5.0",
       "_view_name": "HBoxView",
       "box_style": "",
       "children": [
        "IPY_MODEL_ae514332fc37470cbfe7d465e36cfe1f",
        "IPY_MODEL_f295a876ba234d319a6815efd9d8dbce",
        "IPY_MODEL_679f9e7be2ec42c89a4b2de9510fd9d5"
       ],
       "layout": "IPY_MODEL_42cc86fab80c4ff5a4d8fcd14119e5cb"
      }
     },
     "ae514332fc37470cbfe7d465e36cfe1f": {
      "model_module": "@jupyter-widgets/controls",
      "model_module_version": "1.5.0",
      "model_name": "HTMLModel",
      "state": {
       "_dom_classes": [],
       "_model_module": "@jupyter-widgets/controls",
       "_model_module_version": "1.5.0",
       "_model_name": "HTMLModel",
       "_view_count": null,
       "_view_module": "@jupyter-widgets/controls",
       "_view_module_version": "1.5.0",
       "_view_name": "HTMLView",
       "description": "",
       "description_tooltip": null,
       "layout": "IPY_MODEL_2dcd0961fe494501b2ea3f58624b5b73",
       "placeholder": "​",
       "style": "IPY_MODEL_34d863377db040b7b216718683973f1d",
       "value": "100%"
      }
     },
     "f295a876ba234d319a6815efd9d8dbce": {
      "model_module": "@jupyter-widgets/controls",
      "model_module_version": "1.5.0",
      "model_name": "FloatProgressModel",
      "state": {
       "_dom_classes": [],
       "_model_module": "@jupyter-widgets/controls",
       "_model_module_version": "1.5.0",
       "_model_name": "FloatProgressModel",
       "_view_count": null,
       "_view_module": "@jupyter-widgets/controls",
       "_view_module_version": "1.5.0",
       "_view_name": "ProgressView",
       "bar_style": "success",
       "description": "",
       "description_tooltip": null,
       "layout": "IPY_MODEL_7e677e71339c4daa8dc70143a0cee064",
       "max": 574673361.0,
       "min": 0.0,
       "orientation": "horizontal",
       "style": "IPY_MODEL_15f12d1f08e24cdba645fbaa31bfc26f",
       "value": 574673361.0
      }
     }
    },
    "version_major": 2,
    "version_minor": 0
   }
  }
 },
 "nbformat": 4,
 "nbformat_minor": 5
}
